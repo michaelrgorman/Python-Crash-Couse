{
 "cells": [
  {
   "cell_type": "code",
   "execution_count": 1,
   "id": "d19a8b74",
   "metadata": {},
   "outputs": [],
   "source": [
    "#Looping Through an Entire List"
   ]
  },
  {
   "cell_type": "code",
   "execution_count": 2,
   "id": "039511cd",
   "metadata": {},
   "outputs": [
    {
     "name": "stdout",
     "output_type": "stream",
     "text": [
      "James\n",
      "boby\n",
      "smith\n"
     ]
    }
   ],
   "source": [
    "magicians = ['James', 'boby', 'smith'] #defining a list\n",
    "for magician in magicians: #define a loop\n",
    "        print(magician)"
   ]
  },
  {
   "cell_type": "code",
   "execution_count": 3,
   "id": "33864917",
   "metadata": {},
   "outputs": [
    {
     "name": "stdout",
     "output_type": "stream",
     "text": [
      "['James', 'boby', 'smith']\n"
     ]
    }
   ],
   "source": [
    "print(magicians)"
   ]
  },
  {
   "cell_type": "code",
   "execution_count": 4,
   "id": "fa6252ac",
   "metadata": {},
   "outputs": [
    {
     "name": "stdout",
     "output_type": "stream",
     "text": [
      "Alice, that was a great trick!\n",
      "David, that was a great trick!\n",
      "Carolina, that was a great trick!\n"
     ]
    }
   ],
   "source": [
    "magicians = ['alice', 'david', 'carolina']\n",
    "for magician in magicians:\n",
    "    print(f\"{magician.title()}, that was a great trick!\")"
   ]
  },
  {
   "cell_type": "code",
   "execution_count": 5,
   "id": "1270157b",
   "metadata": {},
   "outputs": [
    {
     "name": "stdout",
     "output_type": "stream",
     "text": [
      "Alice, that was a great trick!\n",
      "I can't wait to see your next trick, Alice.\n",
      "\n",
      "David, that was a great trick!\n",
      "I can't wait to see your next trick, David.\n",
      "\n",
      "Carolina, that was a great trick!\n",
      "I can't wait to see your next trick, Carolina.\n",
      "\n"
     ]
    }
   ],
   "source": [
    "magicians = ['alice', 'david', 'carolina']\n",
    "for magician in magicians:\n",
    "    print(f\"{magician.title()}, that was a great trick!\")\n",
    "    print(f\"I can't wait to see your next trick, {magician.title()}.\\n\")"
   ]
  },
  {
   "cell_type": "code",
   "execution_count": 6,
   "id": "62f823f4",
   "metadata": {},
   "outputs": [],
   "source": [
    "#Doing Something After a for Loop"
   ]
  },
  {
   "cell_type": "code",
   "execution_count": 7,
   "id": "847c2a10",
   "metadata": {},
   "outputs": [
    {
     "name": "stdout",
     "output_type": "stream",
     "text": [
      "Alice, that was a great trick!\n",
      "I can't wait to see your next trick, Alice.\n",
      "\n",
      "David, that was a great trick!\n",
      "I can't wait to see your next trick, David.\n",
      "\n",
      "Carolina, that was a great trick!\n",
      "I can't wait to see your next trick, Carolina.\n",
      "\n",
      "Thank you, everyone. That was a great show\n"
     ]
    }
   ],
   "source": [
    "magicians = ['alice', 'david', 'carolina']\n",
    "for magician in magicians:\n",
    "    print(f\"{magician.title()}, that was a great trick!\")\n",
    "    print(f\"I can't wait to see your next trick, {magician.title()}.\\n\")\n",
    "    \n",
    "print(\"Thank you, everyone. That was a great show\")"
   ]
  },
  {
   "cell_type": "code",
   "execution_count": 8,
   "id": "65e67e49",
   "metadata": {},
   "outputs": [
    {
     "name": "stdout",
     "output_type": "stream",
     "text": [
      "Alice, that was a great trick!\n",
      "I can't wait to see your next trick, Alice.\n",
      "\n",
      "Thank you everyone, that was a great magic show!\n",
      "David, that was a great trick!\n",
      "I can't wait to see your next trick, David.\n",
      "\n",
      "Thank you everyone, that was a great magic show!\n",
      "Carolina, that was a great trick!\n",
      "I can't wait to see your next trick, Carolina.\n",
      "\n",
      "Thank you everyone, that was a great magic show!\n"
     ]
    }
   ],
   "source": [
    "magicians = ['alice', 'david', 'carolina']\n",
    "for magician in magicians:\n",
    "    print(f\"{magician.title()}, that was a great trick!\")\n",
    "    print(f\"I can't wait to see your next trick, {magician.title()}.\\n\")\n",
    "\n",
    "    print(\"Thank you everyone, that was a great magic show!\")"
   ]
  },
  {
   "cell_type": "code",
   "execution_count": 25,
   "id": "2519a746",
   "metadata": {},
   "outputs": [],
   "source": [
    "#Exercise 4-1. pizza "
   ]
  },
  {
   "cell_type": "code",
   "execution_count": 24,
   "id": "5b063305",
   "metadata": {},
   "outputs": [
    {
     "name": "stdout",
     "output_type": "stream",
     "text": [
      "Cheese, is my favourite topping!\n",
      "Can't wait to ad dCheese to my pizza!.\n",
      "\n",
      "Meat, is my favourite topping!\n",
      "Can't wait to ad dMeat to my pizza!.\n",
      "\n",
      "Tomato, is my favourite topping!\n",
      "Can't wait to ad dTomato to my pizza!.\n",
      "\n",
      "I like pasta\n"
     ]
    }
   ],
   "source": [
    "pizza = ['Cheese' , 'Meat', 'Tomato']\n",
    "for pizzas in pizza:\n",
    "    print(f\"{pizzas.title()}, is my favourite topping!\")\n",
    "    print(f\"Can't wait to ad d{pizzas.title()} to my pizza!.\\n\")\n",
    "    \n",
    "print(\"I like pasta\")"
   ]
  },
  {
   "cell_type": "code",
   "execution_count": null,
   "id": "d9dfe033",
   "metadata": {},
   "outputs": [],
   "source": [
    "#Exercise 4-2. Animals "
   ]
  },
  {
   "cell_type": "code",
   "execution_count": 30,
   "id": "a1a305e2",
   "metadata": {},
   "outputs": [
    {
     "name": "stdout",
     "output_type": "stream",
     "text": [
      "dog\n",
      "cat\n"
     ]
    }
   ],
   "source": [
    "animals = ['dog', 'cat']\n",
    "for animal in animals:\n",
    "    print(animal)\n",
    "    "
   ]
  },
  {
   "cell_type": "code",
   "execution_count": 31,
   "id": "525481d5",
   "metadata": {},
   "outputs": [],
   "source": [
    "#Using the range() Function"
   ]
  },
  {
   "cell_type": "code",
   "execution_count": 35,
   "id": "c2b11602",
   "metadata": {},
   "outputs": [
    {
     "name": "stdout",
     "output_type": "stream",
     "text": [
      "1\n",
      "2\n",
      "3\n",
      "4\n"
     ]
    }
   ],
   "source": [
    "for value in range(1, 5):\n",
    "    print(value)"
   ]
  },
  {
   "cell_type": "code",
   "execution_count": 36,
   "id": "94625d49",
   "metadata": {},
   "outputs": [
    {
     "name": "stdout",
     "output_type": "stream",
     "text": [
      "[1, 2, 3, 4, 5]\n"
     ]
    }
   ],
   "source": [
    "numbers = list(range(1, 6))\n",
    "print(numbers)"
   ]
  },
  {
   "cell_type": "code",
   "execution_count": 42,
   "id": "a66e0dc2",
   "metadata": {},
   "outputs": [
    {
     "name": "stdout",
     "output_type": "stream",
     "text": [
      "[2]\n"
     ]
    }
   ],
   "source": [
    "even_numbers = list(range(2,11,412))\n",
    "print(even_numbers)"
   ]
  },
  {
   "cell_type": "code",
   "execution_count": 50,
   "id": "f968e11d",
   "metadata": {},
   "outputs": [
    {
     "name": "stdout",
     "output_type": "stream",
     "text": [
      "[2, 4, 6, 8, 10, 12, 14, 16, 18, 20]\n"
     ]
    }
   ],
   "source": [
    "squares = []\n",
    "for value in range(1,11):\n",
    "    square = value * 2\n",
    "    squares.append(square)\n",
    "print(squares)"
   ]
  },
  {
   "cell_type": "code",
   "execution_count": 53,
   "id": "550800a7",
   "metadata": {},
   "outputs": [
    {
     "name": "stdout",
     "output_type": "stream",
     "text": [
      "[1]\n",
      "[1, 4]\n",
      "[1, 4, 9]\n",
      "[1, 4, 9, 16]\n",
      "[1, 4, 9, 16, 25]\n",
      "[1, 4, 9, 16, 25, 36]\n",
      "[1, 4, 9, 16, 25, 36, 49]\n",
      "[1, 4, 9, 16, 25, 36, 49, 64]\n",
      "[1, 4, 9, 16, 25, 36, 49, 64, 81]\n",
      "[1, 4, 9, 16, 25, 36, 49, 64, 81, 100]\n"
     ]
    }
   ],
   "source": [
    "squares = []\n",
    "for value in range(1,11):\n",
    "    squares.append(value**2)\n",
    "    print(squares)"
   ]
  },
  {
   "cell_type": "code",
   "execution_count": 54,
   "id": "6aeaf3a6",
   "metadata": {},
   "outputs": [],
   "source": [
    "#Simple Statistics with a List of Numbers"
   ]
  },
  {
   "cell_type": "code",
   "execution_count": 56,
   "id": "02392410",
   "metadata": {},
   "outputs": [
    {
     "data": {
      "text/plain": [
       "1"
      ]
     },
     "execution_count": 56,
     "metadata": {},
     "output_type": "execute_result"
    }
   ],
   "source": [
    "digits = [1, 2, 3, 4, 5]\n",
    "min(digits)"
   ]
  },
  {
   "cell_type": "code",
   "execution_count": 57,
   "id": "6831cdb7",
   "metadata": {},
   "outputs": [
    {
     "data": {
      "text/plain": [
       "5"
      ]
     },
     "execution_count": 57,
     "metadata": {},
     "output_type": "execute_result"
    }
   ],
   "source": [
    "max(digits)"
   ]
  },
  {
   "cell_type": "code",
   "execution_count": 58,
   "id": "dfc916d5",
   "metadata": {},
   "outputs": [
    {
     "data": {
      "text/plain": [
       "15"
      ]
     },
     "execution_count": 58,
     "metadata": {},
     "output_type": "execute_result"
    }
   ],
   "source": [
    "sum(digits)"
   ]
  },
  {
   "cell_type": "code",
   "execution_count": 59,
   "id": "5840bc1b",
   "metadata": {},
   "outputs": [
    {
     "name": "stdout",
     "output_type": "stream",
     "text": [
      "[1, 4, 9, 16, 25, 36, 49, 64, 81, 100]\n"
     ]
    }
   ],
   "source": [
    "squares = [value**2 for value in range(1, 11)]\n",
    "print(squares)"
   ]
  },
  {
   "cell_type": "code",
   "execution_count": 60,
   "id": "e676b0cf",
   "metadata": {},
   "outputs": [],
   "source": [
    "#Exercise 4-3. Counting to Twenty:"
   ]
  },
  {
   "cell_type": "code",
   "execution_count": 61,
   "id": "eea300ff",
   "metadata": {},
   "outputs": [
    {
     "name": "stdout",
     "output_type": "stream",
     "text": [
      "1\n",
      "2\n",
      "3\n",
      "4\n",
      "5\n",
      "6\n",
      "7\n",
      "8\n",
      "9\n",
      "10\n",
      "11\n",
      "12\n",
      "13\n",
      "14\n",
      "15\n",
      "16\n",
      "17\n",
      "18\n",
      "19\n",
      "20\n"
     ]
    }
   ],
   "source": [
    "numbers = list(range(1, 21))\n",
    "\n",
    "for number in numbers:\n",
    "    print(number)"
   ]
  },
  {
   "cell_type": "code",
   "execution_count": 69,
   "id": "dd09038b",
   "metadata": {},
   "outputs": [],
   "source": [
    "#Exercise 4-5. Summing a Million:"
   ]
  },
  {
   "cell_type": "code",
   "execution_count": 70,
   "id": "eb529635",
   "metadata": {},
   "outputs": [
    {
     "name": "stdout",
     "output_type": "stream",
     "text": [
      "1\n",
      "1000000\n",
      "500000500000\n"
     ]
    }
   ],
   "source": [
    "numbers = list(range(1, 1000001))\n",
    "print(min(numbers))\n",
    "print(max(numbers))\n",
    "print(sum(numbers))"
   ]
  },
  {
   "cell_type": "code",
   "execution_count": 71,
   "id": "809fc55c",
   "metadata": {},
   "outputs": [],
   "source": [
    "# Exercise 4-6. Odd Numbers:"
   ]
  },
  {
   "cell_type": "code",
   "execution_count": 72,
   "id": "f29d55f6",
   "metadata": {},
   "outputs": [
    {
     "name": "stdout",
     "output_type": "stream",
     "text": [
      "[1, 2, 3, 4, 5, 6, 7, 8, 9, 10, 11, 12, 13, 14, 15, 16, 17, 18, 19]\n"
     ]
    }
   ],
   "source": [
    "even_numbers = list(range(1,20))\n",
    "print(even_numbers)"
   ]
  },
  {
   "cell_type": "code",
   "execution_count": 73,
   "id": "5d33fde7",
   "metadata": {},
   "outputs": [],
   "source": [
    "#Exercise 4-7. Threes:"
   ]
  },
  {
   "cell_type": "code",
   "execution_count": 81,
   "id": "455c0cad",
   "metadata": {},
   "outputs": [
    {
     "name": "stdout",
     "output_type": "stream",
     "text": [
      "[3, 6, 9, 12, 15, 18, 21, 24, 27, 30]\n"
     ]
    }
   ],
   "source": [
    "three =  list(range(3, 31,3))\n",
    "print(three)\n"
   ]
  },
  {
   "cell_type": "code",
   "execution_count": 80,
   "id": "a4c21f26",
   "metadata": {},
   "outputs": [
    {
     "name": "stdout",
     "output_type": "stream",
     "text": [
      "3\n",
      "6\n",
      "9\n",
      "12\n",
      "15\n",
      "18\n",
      "21\n",
      "24\n",
      "27\n",
      "30\n"
     ]
    }
   ],
   "source": [
    "three =  list(range(3, 31,3))\n",
    "for number in three:\n",
    "    print(number)"
   ]
  },
  {
   "cell_type": "code",
   "execution_count": 82,
   "id": "cf37760f",
   "metadata": {},
   "outputs": [],
   "source": [
    "#Exercise 4-8. Cubes "
   ]
  },
  {
   "cell_type": "code",
   "execution_count": 90,
   "id": "44f9fe9a",
   "metadata": {},
   "outputs": [
    {
     "name": "stdout",
     "output_type": "stream",
     "text": [
      "1\n",
      "8\n",
      "27\n",
      "64\n",
      "125\n",
      "216\n",
      "343\n",
      "512\n",
      "729\n",
      "1000\n"
     ]
    }
   ],
   "source": [
    "for number in range (1, 11):\n",
    "    cube = number**3\n",
    "    print(cube)"
   ]
  },
  {
   "cell_type": "code",
   "execution_count": 92,
   "id": "fa96d8d4",
   "metadata": {},
   "outputs": [],
   "source": [
    "#Slicing a List "
   ]
  },
  {
   "cell_type": "code",
   "execution_count": 105,
   "id": "4f97b936",
   "metadata": {},
   "outputs": [
    {
     "name": "stdout",
     "output_type": "stream",
     "text": [
      "['charles', 'martina', 'michael']\n",
      "['charles', 'martina']\n",
      "['michael', 'florence', 'eli']\n",
      "florence\n"
     ]
    }
   ],
   "source": [
    "players = ['charles', 'martina', 'michael', 'florence', 'eli']\n",
    "print(players[0:3])\n",
    "print(players[:2])\n",
    "print(players[2:])\n",
    "print(players[-2])"
   ]
  },
  {
   "cell_type": "code",
   "execution_count": 107,
   "id": "f447f465",
   "metadata": {},
   "outputs": [
    {
     "name": "stdout",
     "output_type": "stream",
     "text": [
      "Here are the first three players on my team\n",
      "Charles\n",
      "Martina\n",
      "Michael\n"
     ]
    }
   ],
   "source": [
    "players = ['charles', 'martina', 'michael', 'florence', 'eli']\n",
    "print(\"Here are the first three players on my team\")\n",
    "for player in players[:3]:\n",
    "    print(player.title())"
   ]
  },
  {
   "cell_type": "code",
   "execution_count": 121,
   "id": "62d5ef6b",
   "metadata": {},
   "outputs": [
    {
     "name": "stdout",
     "output_type": "stream",
     "text": [
      "My favorite foods are:\n",
      "['pizza', 'falafel', 'carrot cake']\n",
      "\n",
      "My friend's favorite foods are:\n",
      "['pizza', 'falafel', 'carrot cake']\n"
     ]
    }
   ],
   "source": [
    "my_foods = ['pizza', 'falafel', 'carrot cake']\n",
    "friend_foods = my_foods[:]\n",
    "\n",
    "print(\"My favorite foods are:\")\n",
    "print(my_foods)\n",
    "\n",
    "print(\"\\nMy friend's favorite foods are:\")\n",
    "print(friend_foods)"
   ]
  },
  {
   "cell_type": "code",
   "execution_count": 122,
   "id": "57f53ecd",
   "metadata": {},
   "outputs": [
    {
     "name": "stdout",
     "output_type": "stream",
     "text": [
      "['pizza', 'falafel', 'carrot cake', 'ice cream']\n",
      "['pizza', 'falafel', 'carrot cake', 'nugs']\n"
     ]
    }
   ],
   "source": [
    "my_foods.append('ice cream')\n",
    "friend_foods.append('nugs')\n",
    "print(my_foods)\n",
    "print(friend_foods)"
   ]
  },
  {
   "cell_type": "code",
   "execution_count": 123,
   "id": "ca7c415e",
   "metadata": {},
   "outputs": [],
   "source": [
    "#Exercise 4-10. Slices:"
   ]
  },
  {
   "cell_type": "code",
   "execution_count": 127,
   "id": "48c03023",
   "metadata": {},
   "outputs": [
    {
     "name": "stdout",
     "output_type": "stream",
     "text": [
      "The first three items on my food list are:\n",
      "Pizza\n",
      "Falafel\n",
      "Carrot Cake\n"
     ]
    }
   ],
   "source": [
    "print(\"The first three items on my food list are:\")\n",
    "for food in my_foods[:3]:\n",
    "    print(food.title())"
   ]
  },
  {
   "cell_type": "code",
   "execution_count": 130,
   "id": "302d0c53",
   "metadata": {},
   "outputs": [
    {
     "name": "stdout",
     "output_type": "stream",
     "text": [
      "The middle three items on my food list are:\n",
      "Falafel\n",
      "Carrot Cake\n",
      "Ice Cream\n"
     ]
    }
   ],
   "source": [
    "print(\"The middle three items on my food list are:\")\n",
    "for food3 in my_foods[1:4]:\n",
    "    print(food3.title())"
   ]
  },
  {
   "cell_type": "code",
   "execution_count": 135,
   "id": "d1fab4c4",
   "metadata": {},
   "outputs": [
    {
     "name": "stdout",
     "output_type": "stream",
     "text": [
      "The last three items on my food list are:\n",
      "Falafel\n",
      "Carrot Cake\n",
      "Ice Cream\n"
     ]
    }
   ],
   "source": [
    "print(\"The last three items on my food list are:\")\n",
    "for foodsL in my_foods[1:]:\n",
    "    print(foodsL.title())"
   ]
  },
  {
   "cell_type": "code",
   "execution_count": null,
   "id": "e7bd0a8c",
   "metadata": {},
   "outputs": [],
   "source": [
    "#Exercise4-11. My Pizzas, Your Pizzas:"
   ]
  },
  {
   "cell_type": "code",
   "execution_count": 158,
   "id": "fd937d9b",
   "metadata": {},
   "outputs": [
    {
     "name": "stdout",
     "output_type": "stream",
     "text": [
      "Cheese, is my favourite topping!\n",
      "Can't wait to ad dCheese to my pizza!.\n",
      "\n",
      "Meat, is my favourite topping!\n",
      "Can't wait to ad dMeat to my pizza!.\n",
      "\n",
      "Tomato, is my favourite topping!\n",
      "Can't wait to ad dTomato to my pizza!.\n",
      "\n",
      "Pineapple, is my favourite topping!\n",
      "Can't wait to ad dPineapple to my pizza!.\n",
      "\n"
     ]
    }
   ],
   "source": [
    "friends_pizza = ['Cheese' , 'Meat', 'Tomato']\n",
    "for pizzas in pizza:\n",
    "    print(f\"{pizzas.title()}, is my favourite topping!\")\n",
    "    print(f\"Can't wait to ad d{pizzas.title()} to my pizza!.\\n\")\n"
   ]
  },
  {
   "cell_type": "code",
   "execution_count": 157,
   "id": "420265e9",
   "metadata": {},
   "outputs": [
    {
     "name": "stdout",
     "output_type": "stream",
     "text": [
      "Cheese\n",
      "Meat\n",
      "Tomato\n",
      "Pineapple\n"
     ]
    }
   ],
   "source": [
    "friends_pizza.append('pineapple')\n",
    "for friends_pizzas in pizza:\n",
    "    print(friends_pizzas.title())4-12. More Loops: "
   ]
  },
  {
   "cell_type": "code",
   "execution_count": 159,
   "id": "03f2b519",
   "metadata": {},
   "outputs": [
    {
     "name": "stdout",
     "output_type": "stream",
     "text": [
      "My favorite pizzas are:\n",
      "- pepperoni\n",
      "- hawaiian\n",
      "- veggie\n",
      "- meat lover's\n",
      "\n",
      "My friend's favorite pizzas are:\n",
      "- pepperoni\n",
      "- hawaiian\n",
      "- veggie\n",
      "- pesto\n"
     ]
    }
   ],
   "source": [
    "favorite_pizzas = ['pepperoni', 'hawaiian', 'veggie']\n",
    "friend_pizzas = favorite_pizzas[:]\n",
    "\n",
    "favorite_pizzas.append(\"meat lover's\")\n",
    "friend_pizzas.append('pesto')\n",
    "\n",
    "print(\"My favorite pizzas are:\")\n",
    "for pizza in favorite_pizzas:\n",
    "    print(\"- \" + pizza)\n",
    "\n",
    "print(\"\\nMy friend's favorite pizzas are:\")\n",
    "for pizza in friend_pizzas:\n",
    "    print(\"- \" + pizza)"
   ]
  },
  {
   "cell_type": "code",
   "execution_count": null,
   "id": "7dde8e71",
   "metadata": {},
   "outputs": [],
   "source": [
    "#Defining a Tuple"
   ]
  },
  {
   "cell_type": "code",
   "execution_count": 160,
   "id": "586932f3",
   "metadata": {},
   "outputs": [
    {
     "name": "stdout",
     "output_type": "stream",
     "text": [
      "200\n",
      "50\n"
     ]
    }
   ],
   "source": [
    "dimensions = (200, 50)\n",
    "print(dimensions[0])\n",
    "print(dimensions[1])"
   ]
  },
  {
   "cell_type": "code",
   "execution_count": 161,
   "id": "ce6ce9cc",
   "metadata": {},
   "outputs": [
    {
     "ename": "TypeError",
     "evalue": "'tuple' object does not support item assignment",
     "output_type": "error",
     "traceback": [
      "\u001b[1;31m---------------------------------------------------------------------------\u001b[0m",
      "\u001b[1;31mTypeError\u001b[0m                                 Traceback (most recent call last)",
      "\u001b[1;32m~\\AppData\\Local\\Temp/ipykernel_6484/3925575658.py\u001b[0m in \u001b[0;36m<module>\u001b[1;34m\u001b[0m\n\u001b[0;32m      1\u001b[0m \u001b[0mdimensions\u001b[0m \u001b[1;33m=\u001b[0m \u001b[1;33m(\u001b[0m\u001b[1;36m200\u001b[0m\u001b[1;33m,\u001b[0m \u001b[1;36m50\u001b[0m\u001b[1;33m)\u001b[0m\u001b[1;33m\u001b[0m\u001b[1;33m\u001b[0m\u001b[0m\n\u001b[1;32m----> 2\u001b[1;33m \u001b[0mdimensions\u001b[0m\u001b[1;33m[\u001b[0m\u001b[1;36m0\u001b[0m\u001b[1;33m]\u001b[0m \u001b[1;33m=\u001b[0m \u001b[1;36m250\u001b[0m\u001b[1;33m\u001b[0m\u001b[1;33m\u001b[0m\u001b[0m\n\u001b[0m",
      "\u001b[1;31mTypeError\u001b[0m: 'tuple' object does not support item assignment"
     ]
    }
   ],
   "source": [
    "dimensions = (200, 50)\n",
    "dimensions[0] = 250"
   ]
  },
  {
   "cell_type": "code",
   "execution_count": 163,
   "id": "dab8f5cb",
   "metadata": {},
   "outputs": [
    {
     "name": "stdout",
     "output_type": "stream",
     "text": [
      "200\n",
      "50\n"
     ]
    }
   ],
   "source": [
    "dimensions = (200, 50)\n",
    "for dimension in dimensions:\n",
    "    print(dimension)"
   ]
  },
  {
   "cell_type": "code",
   "execution_count": 167,
   "id": "e3cfb0f4",
   "metadata": {},
   "outputs": [
    {
     "name": "stdout",
     "output_type": "stream",
     "text": [
      "Original dimensions:\n",
      "200\n",
      "50\n",
      "\n",
      "Modified dimensions:\n",
      "400\n",
      "100\n"
     ]
    }
   ],
   "source": [
    "dimensions = (200, 50)\n",
    "print(\"Original dimensions:\")\n",
    "for dimension in dimensions:\n",
    "    print(dimension)\n",
    "\n",
    "    dimensions = (400, 100)\n",
    "print(\"\\nModified dimensions:\")\n",
    "for dimension in dimensions:\n",
    "    print(dimension)"
   ]
  },
  {
   "cell_type": "code",
   "execution_count": 168,
   "id": "bacfc1ce",
   "metadata": {},
   "outputs": [],
   "source": [
    "#Excerise 4-13. Buffet:"
   ]
  },
  {
   "cell_type": "code",
   "execution_count": 171,
   "id": "2b05979f",
   "metadata": {},
   "outputs": [
    {
     "name": "stdout",
     "output_type": "stream",
     "text": [
      "The menu at the bufffet is:\n",
      "- apple\n",
      "- pancake\n",
      "- eggs\n",
      "- rice\n",
      "- soup\n"
     ]
    }
   ],
   "source": [
    "buffet = ('apple', 'pancake' , 'eggs' ,'rice', 'soup')\n",
    "print(\"The menu at the bufffet is:\")\n",
    "for foods in buffet:\n",
    "    print(\"- \" +foods)"
   ]
  },
  {
   "cell_type": "code",
   "execution_count": 174,
   "id": "3e93993a",
   "metadata": {},
   "outputs": [
    {
     "name": "stdout",
     "output_type": "stream",
     "text": [
      "We have updated the menu:\n",
      " - apple\n",
      " - pancake\n",
      " - soft boild eggs\n",
      " - rice\n",
      " - soup\n"
     ]
    }
   ],
   "source": [
    "buffet = ('apple', 'pancake' , 'soft boild eggs' ,'rice', 'soup')\n",
    "print(\"We have updated the menu:\")\n",
    "for foods_update in buffet:\n",
    "    print(\" - \"+foods_update)"
   ]
  },
  {
   "cell_type": "code",
   "execution_count": null,
   "id": "fa2d2f25",
   "metadata": {},
   "outputs": [],
   "source": []
  }
 ],
 "metadata": {
  "kernelspec": {
   "display_name": "Python 3 (ipykernel)",
   "language": "python",
   "name": "python3"
  },
  "language_info": {
   "codemirror_mode": {
    "name": "ipython",
    "version": 3
   },
   "file_extension": ".py",
   "mimetype": "text/x-python",
   "name": "python",
   "nbconvert_exporter": "python",
   "pygments_lexer": "ipython3",
   "version": "3.9.5"
  }
 },
 "nbformat": 4,
 "nbformat_minor": 5
}

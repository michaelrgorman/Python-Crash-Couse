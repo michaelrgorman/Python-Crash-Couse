{
 "cells": [
  {
   "cell_type": "code",
   "execution_count": 1,
   "id": "0518ba73",
   "metadata": {},
   "outputs": [],
   "source": [
    "#A Simple Dictionary"
   ]
  },
  {
   "cell_type": "code",
   "execution_count": 4,
   "id": "62ca2b6b",
   "metadata": {},
   "outputs": [
    {
     "name": "stdout",
     "output_type": "stream",
     "text": [
      "green\n",
      "5\n"
     ]
    }
   ],
   "source": [
    "alien_0 = {'color': 'green', 'points': 5}\n",
    "print(alien_0['color'])\n",
    "print(alien_0['points'])"
   ]
  },
  {
   "cell_type": "code",
   "execution_count": 5,
   "id": "f6a0b2aa",
   "metadata": {},
   "outputs": [
    {
     "name": "stdout",
     "output_type": "stream",
     "text": [
      "green\n"
     ]
    }
   ],
   "source": [
    "alien_0 = {'color': 'green'}\n",
    "print(alien_0['color'])"
   ]
  },
  {
   "cell_type": "code",
   "execution_count": 6,
   "id": "e151f9e2",
   "metadata": {},
   "outputs": [
    {
     "name": "stdout",
     "output_type": "stream",
     "text": [
      "You just earned 5 points!\n"
     ]
    }
   ],
   "source": [
    "alien_0 = {'color': 'green', 'points': 5}\n",
    "new_points = alien_0['points']\n",
    "print(f\"You just earned {new_points} points!\")"
   ]
  },
  {
   "cell_type": "code",
   "execution_count": 7,
   "id": "17a023cf",
   "metadata": {},
   "outputs": [],
   "source": [
    "#Adding New Key-Value Pairs"
   ]
  },
  {
   "cell_type": "code",
   "execution_count": 8,
   "id": "50f3c844",
   "metadata": {},
   "outputs": [
    {
     "name": "stdout",
     "output_type": "stream",
     "text": [
      "{'color': 'green', 'points': 5}\n"
     ]
    }
   ],
   "source": [
    "alien_0 = {'color': 'green', 'points': 5}\n",
    "print(alien_0)"
   ]
  },
  {
   "cell_type": "code",
   "execution_count": 9,
   "id": "e37b5816",
   "metadata": {},
   "outputs": [],
   "source": [
    "alien_0['x_position'] = 0\n",
    "alien_0['y_position'] = 25"
   ]
  },
  {
   "cell_type": "code",
   "execution_count": 10,
   "id": "282d0ddc",
   "metadata": {},
   "outputs": [
    {
     "name": "stdout",
     "output_type": "stream",
     "text": [
      "{'color': 'green', 'points': 5, 'x_position': 0, 'y_position': 25}\n"
     ]
    }
   ],
   "source": [
    "print(alien_0)"
   ]
  },
  {
   "cell_type": "code",
   "execution_count": 11,
   "id": "0264479b",
   "metadata": {},
   "outputs": [],
   "source": [
    "#Starting with an Empty Dictionary"
   ]
  },
  {
   "cell_type": "code",
   "execution_count": 13,
   "id": "4fb641de",
   "metadata": {},
   "outputs": [
    {
     "name": "stdout",
     "output_type": "stream",
     "text": [
      "{'color': 'green', 'points': 5}\n"
     ]
    }
   ],
   "source": [
    "alien_0 = {}\n",
    "alien_0['color'] = 'green'\n",
    "alien_0['points'] = 5\n",
    "print(alien_0)"
   ]
  },
  {
   "cell_type": "code",
   "execution_count": 14,
   "id": "3b9c2282",
   "metadata": {},
   "outputs": [
    {
     "name": "stdout",
     "output_type": "stream",
     "text": [
      "The alien is green.\n",
      "The alien is now yellow.\n"
     ]
    }
   ],
   "source": [
    "alien_0 = {'color': 'green'}\n",
    "print(f\"The alien is {alien_0['color']}.\")\n",
    "alien_0['color'] = 'yellow'\n",
    "print(f\"The alien is now {alien_0['color']}.\")"
   ]
  },
  {
   "cell_type": "code",
   "execution_count": 15,
   "id": "de4fefd9",
   "metadata": {},
   "outputs": [
    {
     "name": "stdout",
     "output_type": "stream",
     "text": [
      "{'color': 'yellow'}\n"
     ]
    }
   ],
   "source": [
    "print(alien_0)"
   ]
  },
  {
   "cell_type": "code",
   "execution_count": 24,
   "id": "e4d5ae97",
   "metadata": {},
   "outputs": [
    {
     "name": "stdout",
     "output_type": "stream",
     "text": [
      "Original position: 0\n",
      "New position: 3\n"
     ]
    }
   ],
   "source": [
    "alien_0 = {'x_position': 0, 'y_position': 25, 'speed': 'fast'}\n",
    "print(f\"Original position: {alien_0['x_position']}\")\n",
    "# Move the alien to the right.\n",
    "# Determine how far to move the alien based on its current speed.\n",
    "if alien_0['speed'] == 'slow':\n",
    "    x_increment = 1\n",
    "elif alien_0['speed'] == 'medium':\n",
    "    x_increment = 2\n",
    "else:\n",
    "# This must be a fast alien.\n",
    "    x_increment = 3\n",
    "# The new position is the old position plus the increment.\n",
    "alien_0['x_position'] = alien_0['x_position'] + x_increment\n",
    "print(f\"New position: {alien_0['x_position']}\")"
   ]
  },
  {
   "cell_type": "code",
   "execution_count": 25,
   "id": "356a250b",
   "metadata": {},
   "outputs": [
    {
     "name": "stdout",
     "output_type": "stream",
     "text": [
      "{'color': 'green', 'points': 5}\n"
     ]
    }
   ],
   "source": [
    "alien_0 = {'color': 'green', 'points': 5}\n",
    "print(alien_0)"
   ]
  },
  {
   "cell_type": "code",
   "execution_count": 26,
   "id": "59f9d628",
   "metadata": {},
   "outputs": [
    {
     "name": "stdout",
     "output_type": "stream",
     "text": [
      "{'color': 'green'}\n"
     ]
    }
   ],
   "source": [
    "del alien_0['points']\n",
    "print(alien_0)"
   ]
  },
  {
   "cell_type": "code",
   "execution_count": 27,
   "id": "6a441425",
   "metadata": {},
   "outputs": [],
   "source": [
    "#A Dictionary of Similar Objects"
   ]
  },
  {
   "cell_type": "code",
   "execution_count": 28,
   "id": "c1fdab99",
   "metadata": {},
   "outputs": [],
   "source": [
    "favorite_languages = {\n",
    "'jen': 'python',\n",
    "'sarah': 'c',\n",
    "'edward': 'ruby',\n",
    "'phil': 'python',\n",
    "}"
   ]
  },
  {
   "cell_type": "code",
   "execution_count": 29,
   "id": "79dacc9b",
   "metadata": {},
   "outputs": [
    {
     "name": "stdout",
     "output_type": "stream",
     "text": [
      "Sarah's favorite language is C.\n"
     ]
    }
   ],
   "source": [
    "language = favorite_languages['sarah'].title()\n",
    "print(f\"Sarah's favorite language is {language}.\")"
   ]
  },
  {
   "cell_type": "code",
   "execution_count": 31,
   "id": "4e66f44e",
   "metadata": {},
   "outputs": [
    {
     "data": {
      "text/plain": [
       "'ruby'"
      ]
     },
     "execution_count": 31,
     "metadata": {},
     "output_type": "execute_result"
    }
   ],
   "source": [
    "favorite_languages['edward']"
   ]
  },
  {
   "cell_type": "code",
   "execution_count": 32,
   "id": "cf114c04",
   "metadata": {},
   "outputs": [],
   "source": [
    "#Using get() to Access Value"
   ]
  },
  {
   "cell_type": "code",
   "execution_count": 33,
   "id": "13b9f191",
   "metadata": {},
   "outputs": [
    {
     "ename": "KeyError",
     "evalue": "'points'",
     "output_type": "error",
     "traceback": [
      "\u001b[1;31m---------------------------------------------------------------------------\u001b[0m",
      "\u001b[1;31mKeyError\u001b[0m                                  Traceback (most recent call last)",
      "\u001b[1;32m~\\AppData\\Local\\Temp/ipykernel_2416/2041057487.py\u001b[0m in \u001b[0;36m<module>\u001b[1;34m\u001b[0m\n\u001b[0;32m      1\u001b[0m \u001b[0malien_0\u001b[0m \u001b[1;33m=\u001b[0m \u001b[1;33m{\u001b[0m\u001b[1;34m'color'\u001b[0m\u001b[1;33m:\u001b[0m \u001b[1;34m'green'\u001b[0m\u001b[1;33m,\u001b[0m \u001b[1;34m'speed'\u001b[0m\u001b[1;33m:\u001b[0m \u001b[1;34m'slow'\u001b[0m\u001b[1;33m}\u001b[0m\u001b[1;33m\u001b[0m\u001b[1;33m\u001b[0m\u001b[0m\n\u001b[1;32m----> 2\u001b[1;33m \u001b[0mprint\u001b[0m\u001b[1;33m(\u001b[0m\u001b[0malien_0\u001b[0m\u001b[1;33m[\u001b[0m\u001b[1;34m'points'\u001b[0m\u001b[1;33m]\u001b[0m\u001b[1;33m)\u001b[0m\u001b[1;33m\u001b[0m\u001b[1;33m\u001b[0m\u001b[0m\n\u001b[0m",
      "\u001b[1;31mKeyError\u001b[0m: 'points'"
     ]
    }
   ],
   "source": [
    "alien_0 = {'color': 'green', 'speed': 'slow'}\n",
    "print(alien_0['points']) "
   ]
  },
  {
   "cell_type": "code",
   "execution_count": 34,
   "id": "aa97a650",
   "metadata": {},
   "outputs": [
    {
     "name": "stdout",
     "output_type": "stream",
     "text": [
      "No point value assigned.\n"
     ]
    }
   ],
   "source": [
    "alien_0 = {'color': 'green', 'speed': 'slow'}\n",
    "point_value = alien_0.get('points', 'No point value assigned.')\n",
    "print(point_value)"
   ]
  },
  {
   "cell_type": "code",
   "execution_count": 44,
   "id": "d83f4c63",
   "metadata": {},
   "outputs": [],
   "source": [
    "#Exercise 6-1. Person: "
   ]
  },
  {
   "cell_type": "code",
   "execution_count": 45,
   "id": "95a4feb7",
   "metadata": {},
   "outputs": [
    {
     "name": "stdout",
     "output_type": "stream",
     "text": [
      "{'fname': 'Michael', 'lname': 'Gorman', 'age': '27', 'gender': 'm'}\n",
      "person1 first name is: Michael\n"
     ]
    }
   ],
   "source": [
    "person_1 ={\n",
    "    'fname' : 'Michael',\n",
    "    'lname' : 'Gorman',\n",
    "    'age'   : '27',\n",
    "    'gender' : 'm'\n",
    "}\n",
    "print(person_1)\n",
    "name = person_1['fname'].title()\n",
    "print(f\"person1 first name is: {name}\")"
   ]
  },
  {
   "cell_type": "code",
   "execution_count": 1,
   "id": "9378eb46",
   "metadata": {},
   "outputs": [],
   "source": [
    "# Exercise 6-2. Favorite Numbers:"
   ]
  },
  {
   "cell_type": "code",
   "execution_count": 11,
   "id": "80654cb9",
   "metadata": {},
   "outputs": [
    {
     "name": "stdout",
     "output_type": "stream",
     "text": [
      "The first person's fav number is:1 and the second persons fav number is: 2\n"
     ]
    }
   ],
   "source": [
    "Person1 = {'favnum' : '1'}\n",
    "Person2 = {'favnum' : '2'}\n",
    "Person3 = {'favnum' : '3'}\n",
    "Person4 = {'favnum' : '4'}\n",
    "Person5 = {'favnum' : '5'}\n",
    "\n",
    "fav1 = Person1['favnum'].title()\n",
    "fav2 = Person2['favnum'].title()\n",
    "fav3 = Person3['favnum'].title()\n",
    "fav4 = Person4['favnum'].title()\n",
    "fav5 = Person5['favnum'].title()\n",
    "\n",
    "print(f\"The first person's fav number is:{fav1} and the second persons fav number is: {fav2}\")"
   ]
  },
  {
   "cell_type": "code",
   "execution_count": 12,
   "id": "be9045cd",
   "metadata": {},
   "outputs": [
    {
     "name": "stdout",
     "output_type": "stream",
     "text": [
      "Mandy's favorite number is 42.\n",
      "Micah's favorite number is 23.\n",
      "Gus's favorite number is 7.\n",
      "Hank's favorite number is 1000000.\n",
      "Maggie's favorite number is 0.\n"
     ]
    }
   ],
   "source": [
    "favorite_numbers = {\n",
    "    'mandy': 42,\n",
    "    'micah': 23,\n",
    "    'gus': 7,\n",
    "    'hank': 1000000,\n",
    "    'maggie': 0,\n",
    "    }\n",
    "\n",
    "num = favorite_numbers['mandy']\n",
    "print(\"Mandy's favorite number is \" + str(num) + \".\")\n",
    "\n",
    "num = favorite_numbers['micah']\n",
    "print(\"Micah's favorite number is \" + str(num) + \".\")\n",
    "\n",
    "num = favorite_numbers['gus']\n",
    "print(\"Gus's favorite number is \" + str(num) + \".\")\n",
    "\n",
    "num = favorite_numbers['hank']\n",
    "print(\"Hank's favorite number is \" + str(num) + \".\")\n",
    "\n",
    "num = favorite_numbers['maggie']\n",
    "print(\"Maggie's favorite number is \" + str(num) + \".\")"
   ]
  },
  {
   "cell_type": "code",
   "execution_count": 13,
   "id": "fbe94848",
   "metadata": {},
   "outputs": [],
   "source": [
    "#Exercise 6-3. Glossary:"
   ]
  },
  {
   "cell_type": "code",
   "execution_count": 81,
   "id": "de37947d",
   "metadata": {},
   "outputs": [
    {
     "name": "stdout",
     "output_type": "stream",
     "text": [
      "\n",
      "String: A series of characters.\n",
      "\n",
      "Comment: A note in a program that the Python interpreter ignores.\n",
      "\n",
      "List: A collection of items in a particular order.\n",
      "\n",
      "Loop: Work through a collection of items, one at a time.\n",
      "\n",
      "Dictionary: A collection of key-value pairs.\n"
     ]
    }
   ],
   "source": [
    "glossary = {\n",
    "    'string': 'A series of characters.',\n",
    "    'comment': 'A note in a program that the Python interpreter ignores.',\n",
    "    'list': 'A collection of items in a particular order.',\n",
    "    'loop': 'Work through a collection of items, one at a time.',\n",
    "    'dictionary': \"A collection of key-value pairs.\",\n",
    "    }\n",
    "\n",
    "word = 'string'\n",
    "print(\"\\n\" + word.title() + \": \" + glossary[word])\n",
    "\n",
    "word = 'comment'\n",
    "print(\"\\n\" + word.title() + \": \" + glossary[word])\n",
    "\n",
    "word = 'list'\n",
    "print(\"\\n\" + word.title() + \": \" + glossary[word])\n",
    "\n",
    "word = 'loop'\n",
    "print(\"\\n\" + word.title() + \": \" + glossary[word])\n",
    "\n",
    "word = 'dictionary'\n",
    "print(\"\\n\" + word.title() + \": \" + glossary[word])"
   ]
  },
  {
   "cell_type": "code",
   "execution_count": 19,
   "id": "2a71fd1c",
   "metadata": {},
   "outputs": [],
   "source": [
    "#Looping Through a Dictionary"
   ]
  },
  {
   "cell_type": "code",
   "execution_count": 26,
   "id": "48f43674",
   "metadata": {},
   "outputs": [
    {
     "name": "stdout",
     "output_type": "stream",
     "text": [
      "\n",
      "key: username\n",
      "value:efermi\n",
      "\n",
      "key: first\n",
      "value:enrico\n",
      "\n",
      "key: last\n",
      "value:fermi\n"
     ]
    }
   ],
   "source": [
    "user_0 = {\n",
    "'username': 'efermi',\n",
    "'first': 'enrico',\n",
    "'last': 'fermi',\n",
    "}\n",
    "\n",
    "for key, value in user_0.items():\n",
    "        print(f\"\\nkey: {key}\")\n",
    "        print (f\"value:{value}\")"
   ]
  },
  {
   "cell_type": "code",
   "execution_count": 32,
   "id": "ebd0136d",
   "metadata": {},
   "outputs": [
    {
     "name": "stdout",
     "output_type": "stream",
     "text": [
      "Jen's favorite language is Python.\n",
      "Sarah's favorite language is C.\n",
      "Edward's favorite language is Ruby.\n",
      "Phil's favorite language is Python.\n"
     ]
    }
   ],
   "source": [
    "favorite_languages = {'jen': 'python',\n",
    "'sarah': 'c',\n",
    "'edward': 'ruby',\n",
    "'phil': 'python',\n",
    "}\n",
    "\n",
    "for name, language in favorite_languages.items():\n",
    "    print(f\"{name.title()}'s favorite language is {language.title()}.\")"
   ]
  },
  {
   "cell_type": "code",
   "execution_count": 61,
   "id": "db569189",
   "metadata": {},
   "outputs": [
    {
     "name": "stdout",
     "output_type": "stream",
     "text": [
      "Jen\n",
      "Sarah\n",
      "Edward\n",
      "Phil\n"
     ]
    }
   ],
   "source": [
    "favorite_languages = {\n",
    "'jen': 'python',\n",
    "'sarah': 'c',\n",
    "'edward': 'ruby',\n",
    "'phil': 'python',\n",
    "}\n",
    "\n",
    "for name in favorite_languages.keys():\n",
    "    print(name.title())\n",
    "    \n",
    "    "
   ]
  },
  {
   "cell_type": "code",
   "execution_count": 53,
   "id": "4095b87a",
   "metadata": {},
   "outputs": [
    {
     "name": "stdout",
     "output_type": "stream",
     "text": [
      "Erin, please take our poll!\n"
     ]
    }
   ],
   "source": [
    "favorite_languages = {\n",
    "'jen': 'python',\n",
    "'sarah': 'c',\n",
    "'edward': 'ruby',\n",
    "'phil': 'python',\n",
    "}\n",
    "if 'erin' not in favorite_languages.keys():\n",
    "    print(\"Erin, please take our poll!\")"
   ]
  },
  {
   "cell_type": "code",
   "execution_count": 55,
   "id": "d418dcb0",
   "metadata": {},
   "outputs": [],
   "source": [
    "#Looping Through a Dictionary’s Keys in a Particular Order"
   ]
  },
  {
   "cell_type": "code",
   "execution_count": 56,
   "id": "bb493a8c",
   "metadata": {},
   "outputs": [
    {
     "name": "stdout",
     "output_type": "stream",
     "text": [
      "Edward, thank you for taking the poll.\n",
      "Jen, thank you for taking the poll.\n",
      "Phil, thank you for taking the poll.\n",
      "Sarah, thank you for taking the poll.\n"
     ]
    }
   ],
   "source": [
    "favorite_languages = {\n",
    "'jen': 'python',\n",
    "'sarah': 'c',\n",
    "'edward': 'ruby',\n",
    "'phil': 'python',\n",
    "}\n",
    "for name in sorted(favorite_languages.keys()):\n",
    "    print(f\"{name.title()}, thank you for taking the poll.\")"
   ]
  },
  {
   "cell_type": "code",
   "execution_count": null,
   "id": "b1828592",
   "metadata": {},
   "outputs": [],
   "source": [
    "#Looping Through All Values in a Dictionary"
   ]
  },
  {
   "cell_type": "code",
   "execution_count": 73,
   "id": "f43006c2",
   "metadata": {},
   "outputs": [
    {
     "name": "stdout",
     "output_type": "stream",
     "text": [
      "The following languages have been mentioned:\n",
      "Python\n",
      "C\n",
      "Ruby\n",
      "Python\n"
     ]
    }
   ],
   "source": [
    "# VALUE is equal to the second column \n",
    "\n",
    "favorite_languages = {\n",
    "'jen': 'python',\n",
    "'sarah': 'c',\n",
    "'edward': 'ruby',\n",
    "'phil': 'python',\n",
    "}\n",
    "print(\"The following languages have been mentioned:\")\n",
    "for language in favorite_languages.values():\n",
    "    print(language.title())\n"
   ]
  },
  {
   "cell_type": "code",
   "execution_count": 66,
   "id": "503bbc5f",
   "metadata": {},
   "outputs": [
    {
     "name": "stdout",
     "output_type": "stream",
     "text": [
      "Jen\n",
      "Sarah\n",
      "Edward\n",
      "Phil\n"
     ]
    }
   ],
   "source": [
    "#KEY is = to the first column\n",
    "\n",
    "favorite_languages = {\n",
    "'jen': 'python',\n",
    "'sarah': 'c',\n",
    "'edward': 'ruby',\n",
    "'phil': 'python',\n",
    "}\n",
    "\n",
    "for name in favorite_languages.keys():\n",
    "    print(name.title())   "
   ]
  },
  {
   "cell_type": "code",
   "execution_count": 75,
   "id": "72b7721b",
   "metadata": {},
   "outputs": [
    {
     "name": "stdout",
     "output_type": "stream",
     "text": [
      "The following languages have been mentioned:\n",
      "C\n",
      "Python\n",
      "Ruby\n"
     ]
    }
   ],
   "source": [
    "favorite_languages = {\n",
    "'jen': 'python',\n",
    "'sarah': 'c',\n",
    "'edward': 'ruby',\n",
    "'phil': 'python',\n",
    "}\n",
    "    \n",
    "print(\"The following languages have been mentioned:\")\n",
    "for language in set(favorite_languages.values()): #Set identifies the unique items only \n",
    "    print(language.title())"
   ]
  },
  {
   "cell_type": "code",
   "execution_count": null,
   "id": "8f05fe2c",
   "metadata": {},
   "outputs": [],
   "source": [
    "#Exercise 6-4. Glossary 2:"
   ]
  },
  {
   "cell_type": "code",
   "execution_count": 82,
   "id": "ed434fc5",
   "metadata": {},
   "outputs": [
    {
     "name": "stdout",
     "output_type": "stream",
     "text": [
      "\n",
      "String: A series of characters.\n",
      "\n",
      "Comment: A note in a program that the Python interpreter ignores.\n",
      "\n",
      "List: A collection of items in a particular order.\n",
      "\n",
      "Loop: Work through a collection of items, one at a time.\n",
      "\n",
      "Dictionary: A collection of key-value pairs.\n",
      "\n",
      "Key: The first item in a key-value pair in a dictionary.\n",
      "\n",
      "Value: An item associated with a key in a dictionary.\n",
      "\n",
      "Conditional Test: A comparison between two values.\n",
      "\n",
      "Float: A numerical value with a decimal component.\n",
      "\n",
      "Boolean Expression: An expression that evaluates to True or False.\n"
     ]
    }
   ],
   "source": [
    "glossary = {\n",
    "    'string': 'A series of characters.',\n",
    "    'comment': 'A note in a program that the Python interpreter ignores.',\n",
    "    'list': 'A collection of items in a particular order.',\n",
    "    'loop': 'Work through a collection of items, one at a time.',\n",
    "    'dictionary': \"A collection of key-value pairs.\",\n",
    "    'key': 'The first item in a key-value pair in a dictionary.',\n",
    "    'value': 'An item associated with a key in a dictionary.',\n",
    "    'conditional test': 'A comparison between two values.',\n",
    "    'float': 'A numerical value with a decimal component.',\n",
    "    'boolean expression': 'An expression that evaluates to True or False.',\n",
    "    }\n",
    "\n",
    "for word, definition in glossary.items():\n",
    "    print(\"\\n\" + word.title() + \": \" + definition)"
   ]
  },
  {
   "cell_type": "code",
   "execution_count": 84,
   "id": "ad44f8ef",
   "metadata": {},
   "outputs": [],
   "source": [
    "#Exercise 6-5. Rivers:"
   ]
  },
  {
   "cell_type": "code",
   "execution_count": 134,
   "id": "88dfc17a",
   "metadata": {},
   "outputs": [
    {
     "name": "stdout",
     "output_type": "stream",
     "text": [
      "\n",
      "The Sepik River flows through New Guinea.\n",
      "\n",
      "The Mississippi River flows through Mississippi.\n",
      "\n",
      "The Zambezi flows through Zambia.\n",
      "----------------------------------------------\n",
      "\n",
      "The following rivers are used in this data set\n",
      "-Sepik River\n",
      "-Mississippi River\n",
      "-Zambezi\n",
      "----------------------------------------------\n",
      "\n",
      "The following rivers are located in this data set\n",
      "-New Guinea\n",
      "-Mississippi\n",
      "-Zambia\n"
     ]
    }
   ],
   "source": [
    "rivers = {\n",
    "    'Sepik River' : 'New Guinea',\n",
    "    'Mississippi River': 'Mississippi',\n",
    "    'Zambezi' : 'Zambia',\n",
    "}\n",
    "\n",
    "#Use a loop to print a sentence about each river, such as The Nile runs through Egypt.\n",
    "for river, country in rivers.items():\n",
    "    print(\"\\nThe \" + river.title() + \" flows through \" + country.title() + \".\")\n",
    "\n",
    "print('----------------------------------------------')\n",
    "#Use a loop to print the name of each river included in the dictionary.\n",
    "print(\"\\nThe following rivers are used in this data set\")\n",
    "\n",
    "for river in rivers.keys():\n",
    "    print(\"-\" + river.title())\n",
    "print('----------------------------------------------')    \n",
    "    \n",
    "    \n",
    "#Use a loop to print the name of each country included in the dictionary.\n",
    "print(\"\\nThe following rivers are located in this data set\")\n",
    "\n",
    "for country in rivers.values():\n",
    "    print(\"-\" + country.title())\n",
    "    "
   ]
  },
  {
   "cell_type": "code",
   "execution_count": null,
   "id": "f7d9a6e8",
   "metadata": {},
   "outputs": [],
   "source": [
    "#Exercise 6-6. Polling: "
   ]
  },
  {
   "cell_type": "code",
   "execution_count": 155,
   "id": "6e9271d9",
   "metadata": {},
   "outputs": [
    {
     "name": "stdout",
     "output_type": "stream",
     "text": [
      "Thank you for taking the poll Phil\n",
      "Josh, Please do the poll\n",
      "David, Please do the poll\n",
      "Becca, Please do the poll\n",
      "Thank you for taking the poll Sarah\n",
      "Matt, Please do the poll\n",
      "Danielle, Please do the poll\n"
     ]
    }
   ],
   "source": [
    "favorite_languages = {'jen': 'python',\n",
    "'sarah': 'c',\n",
    "'edward': 'ruby',\n",
    "'phil': 'python',\n",
    "}\n",
    "\n",
    "    \n",
    "coders = ['phil', 'josh', 'david', 'becca', 'sarah', 'matt', 'danielle']\n",
    "for coder in coders:\n",
    "    if coder in favorite_languages.keys():\n",
    "        print(\"Thank you for taking the poll \" + coder.title())\n",
    "    else:\n",
    "        print(coder.title()+ \", Please do the poll\")"
   ]
  },
  {
   "cell_type": "code",
   "execution_count": null,
   "id": "5f31d06d",
   "metadata": {},
   "outputs": [],
   "source": [
    "#Nesting"
   ]
  },
  {
   "cell_type": "code",
   "execution_count": 161,
   "id": "799551c3",
   "metadata": {},
   "outputs": [
    {
     "name": "stdout",
     "output_type": "stream",
     "text": [
      "{'color': 'green', 'points': 5}\n",
      "{'color': 'yellow', 'points': 10}\n",
      "{'color': 'red', 'points': 15}\n"
     ]
    }
   ],
   "source": [
    "alien_0 = {'color': 'green', 'points': 5}\n",
    "alien_1 = {'color': 'yellow', 'points':10}\n",
    "alien_2 = {'color': 'red', 'points': 15}\n",
    "\n",
    "aliens = [alien_0, alien_1, alien_2]\n",
    "\n",
    "for alien in aliens:\n",
    "    print(alien)"
   ]
  },
  {
   "cell_type": "code",
   "execution_count": 164,
   "id": "af6b68df",
   "metadata": {},
   "outputs": [
    {
     "name": "stdout",
     "output_type": "stream",
     "text": [
      "{'color': 'green', 'points': 5, 'speed': 'slow'}\n",
      "{'color': 'green', 'points': 5, 'speed': 'slow'}\n",
      "{'color': 'green', 'points': 5, 'speed': 'slow'}\n",
      "{'color': 'green', 'points': 5, 'speed': 'slow'}\n",
      "{'color': 'green', 'points': 5, 'speed': 'slow'}\n",
      "...\n",
      "Total number of aliens: 30\n"
     ]
    }
   ],
   "source": [
    "# Make an empty list for storing aliens.\n",
    "aliens = []\n",
    "# Make 30 green aliens.\n",
    "for alien_number in range(30):\n",
    "    new_alien = {'color': 'green', 'points': 5, 'speed': 'slow'}\n",
    "    aliens.append(new_alien)\n",
    "# Show the first 5 aliens.\n",
    "for alien in aliens[:5]:\n",
    "    print(alien)\n",
    "print(\"...\")\n",
    "# Show how many aliens have been created.\n",
    "print(f\"Total number of aliens: {len(aliens)}\")"
   ]
  },
  {
   "cell_type": "code",
   "execution_count": 166,
   "id": "3d0e29f2",
   "metadata": {},
   "outputs": [
    {
     "name": "stdout",
     "output_type": "stream",
     "text": [
      "{'color': 'red', 'points': 15, 'speed': 'fast'}\n",
      "{'color': 'red', 'points': 15, 'speed': 'fast'}\n",
      "{'color': 'red', 'points': 15, 'speed': 'fast'}\n",
      "{'color': 'green', 'points': 5, 'speed': 'slow'}\n",
      "{'color': 'green', 'points': 5, 'speed': 'slow'}\n",
      "...\n",
      "Total number of aliens: 30\n"
     ]
    }
   ],
   "source": [
    "# Make an empty list for storing aliens.\n",
    "aliens = []\n",
    "\n",
    "# Make 30 green aliens.\n",
    "for alien_number in range(30):\n",
    "    new_alien = {'color': 'green', 'points': 5, 'speed': 'slow'}\n",
    "    aliens.append(new_alien)\n",
    "\n",
    "for alien in aliens[:3]:\n",
    "    if alien['color'] == 'green':\n",
    "        alien['color'] = 'yellow'\n",
    "        alien['speed'] = 'medium'\n",
    "        alien['points'] = 10\n",
    "for alien in aliens[0:3]:\n",
    "    if alien['color'] == 'green':\n",
    "        alien['color'] = 'yellow'\n",
    "        alien['speed'] = 'medium'\n",
    "        alien['points'] = 10\n",
    "    elif alien['color'] == 'yellow':\n",
    "        alien['color'] = 'red'\n",
    "        alien['speed'] = 'fast'\n",
    "        alien['points'] = 15\n",
    "\n",
    "# Show the first 5 aliens.\n",
    "for alien in aliens[:5]:\n",
    "    print(alien)\n",
    "print(\"...\")\n",
    "\n",
    "# Show how many aliens have been created.\n",
    "print(f\"Total number of aliens: {len(aliens)}\")"
   ]
  },
  {
   "cell_type": "code",
   "execution_count": 167,
   "id": "843e172f",
   "metadata": {},
   "outputs": [],
   "source": [
    "#A List in a Dictionary"
   ]
  },
  {
   "cell_type": "code",
   "execution_count": 185,
   "id": "c86ab1fb",
   "metadata": {},
   "outputs": [
    {
     "name": "stdout",
     "output_type": "stream",
     "text": [
      "You orderd a thick crust pizzawith the following toppings:\n",
      "\tmushroom\n",
      "\textra cheese\n"
     ]
    }
   ],
   "source": [
    "pizza = {\n",
    "    'crust' : 'thick',\n",
    "    'toppings' : ['mushroom', 'extra cheese',]\n",
    "}\n",
    "print(f\"You orderd a {pizza['crust']} crust pizza\"\n",
    "     \"with the following toppings:\")\n",
    "\n",
    "for topping in pizza['toppings']:\n",
    "    print(\"\\t\" +topping)"
   ]
  },
  {
   "cell_type": "code",
   "execution_count": 190,
   "id": "98c45951",
   "metadata": {},
   "outputs": [
    {
     "name": "stdout",
     "output_type": "stream",
     "text": [
      "\n",
      "Jen's favorite languages are:\n",
      "\tPython\n",
      "\tRuby\n",
      "\n",
      "Sarah's favorite languages are:\n",
      "\tC\n",
      "\n",
      "Edward's favorite languages are:\n",
      "\tRuby\n",
      "\tGo\n",
      "\n",
      "Phil's favorite languages are:\n",
      "\tPython\n",
      "\tHaskell\n"
     ]
    }
   ],
   "source": [
    "favorite_languages = {\n",
    "    'jen': ['python', 'ruby'],\n",
    "    'sarah': ['c'],\n",
    "    'edward': ['ruby', 'go'],\n",
    "    'phil': ['python', 'haskell'], \n",
    "}\n",
    "for name, languages in favorite_languages.items():\n",
    "    print(f\"\\n{name.title()}'s favorite languages are:\")\n",
    "    for language in languages:\n",
    "        print(f\"\\t{language.title()}\")"
   ]
  },
  {
   "cell_type": "code",
   "execution_count": 191,
   "id": "a86f4963",
   "metadata": {},
   "outputs": [],
   "source": [
    "#A Dictionary in a Dictionary"
   ]
  },
  {
   "cell_type": "code",
   "execution_count": 192,
   "id": "b89dc066",
   "metadata": {},
   "outputs": [
    {
     "name": "stdout",
     "output_type": "stream",
     "text": [
      "\n",
      "Username: aeinstein\n",
      "\tFull name: Albert Einstein\n",
      "\tLocation: Princeton\n",
      "\n",
      "Username: mcurie\n",
      "\tFull name: Marie Curie\n",
      "\tLocation: Paris\n"
     ]
    }
   ],
   "source": [
    "users = {\n",
    "'aeinstein': {\n",
    "'first': 'albert',\n",
    "'last': 'einstein',\n",
    "'location': 'princeton',\n",
    "},\n",
    "'mcurie': {\n",
    "'first': 'marie',\n",
    "'last': 'curie',\n",
    "'location': 'paris',\n",
    "},\n",
    "}\n",
    "\n",
    "for username, user_info in users.items():\n",
    "    print(f\"\\nUsername: {username}\")\n",
    "    full_name = f\"{user_info['first']} {user_info['last']}\"\n",
    "    \n",
    "    location = user_info['location']\n",
    "    print(f\"\\tFull name: {full_name.title()}\")\n",
    "    print(f\"\\tLocation: {location.title()}\")"
   ]
  },
  {
   "cell_type": "code",
   "execution_count": 193,
   "id": "883e4d14",
   "metadata": {},
   "outputs": [],
   "source": [
    "#Exercise 6-7. People:"
   ]
  },
  {
   "cell_type": "code",
   "execution_count": 275,
   "id": "2dcecde2",
   "metadata": {},
   "outputs": [
    {
     "name": "stdout",
     "output_type": "stream",
     "text": [
      "Eric Matthes, of Sitka, is 46 years old.\n",
      "Lemmy Matthes, of Sitka, is 2 years old.\n",
      "Willie Matthes, of Sitka, is 11 years old.\n"
     ]
    }
   ],
   "source": [
    "# Make an empty list to store people in.\n",
    "people = []\n",
    "\n",
    "# Define some people, and add them to the list.\n",
    "person = {\n",
    "    'first_name': 'eric',\n",
    "    'last_name': 'matthes',\n",
    "    'age': 46,\n",
    "    'city': 'sitka',\n",
    "    }\n",
    "people.append(person)\n",
    "\n",
    "person = {\n",
    "    'first_name': 'lemmy',\n",
    "    'last_name': 'matthes',\n",
    "    'age': 2,\n",
    "    'city': 'sitka',\n",
    "    }\n",
    "people.append(person)\n",
    "\n",
    "person = {\n",
    "    'first_name': 'willie',\n",
    "    'last_name': 'matthes',\n",
    "    'age': 11,\n",
    "    'city': 'sitka',\n",
    "    }\n",
    "people.append(person)\n",
    "\n",
    "# Display all of the information in the dictionary.\n",
    "for person in people:\n",
    "    name = f\"{person['first_name'].title()} {person['last_name'].title()}\"\n",
    "    age = person['age']\n",
    "    city = person['city'].title()\n",
    "    \n",
    "    print(f\"{name}, of {city}, is {age} years old.\")"
   ]
  },
  {
   "cell_type": "code",
   "execution_count": 259,
   "id": "d48f8c85",
   "metadata": {},
   "outputs": [],
   "source": [
    "#Exercise 6-8. Pets:"
   ]
  },
  {
   "cell_type": "code",
   "execution_count": 311,
   "id": "e6d24a48",
   "metadata": {},
   "outputs": [
    {
     "name": "stdout",
     "output_type": "stream",
     "text": [
      "The type of animal is dog and their colour is yellow. Their name is ben\n",
      "The type of animal is cat and their colour is white. Their name is beth\n",
      "The type of animal is fish and their colour is gren. Their name is bob\n",
      "\n",
      "\n",
      "\n",
      "Here's what I know about Ben:\n",
      "\tname: ben\n",
      "\tbreed: dog\n",
      "\tcolour: yellow\n",
      "\n",
      "Here's what I know about Beth:\n",
      "\tname: beth\n",
      "\tbreed: cat\n",
      "\tcolour: white\n",
      "\n",
      "Here's what I know about Bob:\n",
      "\tname: bob\n",
      "\tbreed: fish\n",
      "\tcolour: gren\n"
     ]
    }
   ],
   "source": [
    "pet = []\n",
    "\n",
    "animal = {\n",
    "    'name' : 'ben',\n",
    "    'breed' : 'dog',\n",
    "    'colour' : 'yellow',\n",
    "}\n",
    "pet.append(animal)\n",
    "animal = {\n",
    "    'name' : 'beth',\n",
    "    'breed' : 'cat',\n",
    "    'colour' : 'white',\n",
    "}\n",
    "pet.append(animal)\n",
    "animal = {\n",
    "    'name' : 'bob',\n",
    "    'breed' : 'fish',\n",
    "    'colour' : 'gren',\n",
    "}\n",
    "pet.append(animal)\n",
    "\n",
    "for animal in pet:\n",
    "    breed = animal['breed']\n",
    "    colour = animal['colour']\n",
    "    name = animal['name']\n",
    "    print(f\"The type of animal is {breed} and their colour is {colour}. Their name is {name}\")\n",
    "print(\"\\n\")\n",
    "\n",
    "for animal in pet:\n",
    "    print(f\"\\nHere's what I know about {animal['name'].title()}:\")\n",
    "    for key, value in animal.items():\n",
    "        print(f\"\\t{key}: {value}\")\n",
    "    "
   ]
  },
  {
   "cell_type": "code",
   "execution_count": 312,
   "id": "d175de20",
   "metadata": {},
   "outputs": [],
   "source": [
    "#Exercise 6-9. Favorite Places:"
   ]
  },
  {
   "cell_type": "code",
   "execution_count": 352,
   "id": "aa9b9c27",
   "metadata": {},
   "outputs": [
    {
     "name": "stdout",
     "output_type": "stream",
     "text": [
      "\n",
      "Michael favourite locations are:\n",
      "\t-Melb\n",
      "\t-Syd\n",
      "\n",
      "Steff favourite locations are:\n",
      "\t-Tas\n",
      "\t-Perth\n"
     ]
    }
   ],
   "source": [
    "favorite_places = {\n",
    "    'michael' : ['melb' , 'syd'],\n",
    "    'steff' : ['tas' , 'perth'],    \n",
    "}\n",
    "\n",
    "for name, places in favorite_places.items():\n",
    "    print(f\"\\n{name.title()} favourite locations are:\")\n",
    "    for location in places:\n",
    "        print(f\"\\t-{location.title()}\")"
   ]
  },
  {
   "cell_type": "code",
   "execution_count": 353,
   "id": "6e3dfa26",
   "metadata": {},
   "outputs": [
    {
     "name": "stdout",
     "output_type": "stream",
     "text": [
      "\n",
      "Eric likes the following places:\n",
      "- Bear Mountain\n",
      "- Death Valley\n",
      "- Tierra Del Fuego\n",
      "\n",
      "Erin likes the following places:\n",
      "- Hawaii\n",
      "- Iceland\n",
      "\n",
      "Willie likes the following places:\n",
      "- Mt. Verstovia\n",
      "- The Playground\n",
      "- New Hampshire\n"
     ]
    }
   ],
   "source": [
    "favorite_places = {\n",
    "    'eric': ['bear mountain', 'death valley', 'tierra del fuego'],\n",
    "    'erin': ['hawaii', 'iceland'],\n",
    "    'willie': ['mt. verstovia', 'the playground', 'new hampshire']\n",
    "    }\n",
    "\n",
    "for name, places in favorite_places.items():\n",
    "    print(f\"\\n{name.title()} likes the following places:\")\n",
    "    for place in places:\n",
    "        print(f\"- {place.title()}\")"
   ]
  },
  {
   "cell_type": "code",
   "execution_count": null,
   "id": "9b1dd9f8",
   "metadata": {},
   "outputs": [],
   "source": [
    "#Exercise 6-10. Favorite Numbers:"
   ]
  },
  {
   "cell_type": "code",
   "execution_count": 355,
   "id": "25db96a3",
   "metadata": {},
   "outputs": [
    {
     "name": "stdout",
     "output_type": "stream",
     "text": [
      "Mandy's favorite number is 42.\n",
      "Micah's favorite number is 23.\n",
      "Gus's favorite number is 7.\n",
      "Hank's favorite number is 1000000.\n",
      "Maggie's favorite number is 0.\n"
     ]
    }
   ],
   "source": [
    "favorite_numbers = {\n",
    "    'mandy': 42,\n",
    "    'micah': 23,\n",
    "    'gus': 7,\n",
    "    'hank': 1000_000,\n",
    "    'maggie': 0,\n",
    "    }\n",
    "\n",
    "num = favorite_numbers['mandy']\n",
    "print(f\"Mandy's favorite number is {num}.\")\n",
    "\n",
    "num = favorite_numbers['micah']\n",
    "print(f\"Micah's favorite number is {num}.\")\n",
    "\n",
    "num = favorite_numbers['gus']\n",
    "print(f\"Gus's favorite number is {num}.\")\n",
    "\n",
    "num = favorite_numbers['hank']\n",
    "print(f\"Hank's favorite number is {num}.\")\n",
    "\n",
    "num = favorite_numbers['maggie']\n",
    "print(f\"Maggie's favorite number is {num}.\")"
   ]
  },
  {
   "cell_type": "code",
   "execution_count": 361,
   "id": "c218f473",
   "metadata": {},
   "outputs": [
    {
     "name": "stdout",
     "output_type": "stream",
     "text": [
      "Mandy's favorite number is [42, 47, 23422, 9234023].\n",
      "Micah's favorite number is [23, 23, 858383].\n",
      "Gus's favorite number is [1, 2, 45].\n",
      "Hank's favorite number is [23, 222222222, 44444444].\n"
     ]
    }
   ],
   "source": [
    "favorite_numbers = {\n",
    "    'mandy': [42, 47, 23422, 9234023],\n",
    "    'micah': [23, 23, 858383],\n",
    "    'gus': [1, 2, 45],\n",
    "    'hank': [23, 222222222, 44444444],\n",
    "    }\n",
    "\n",
    "num = favorite_numbers['mandy']\n",
    "print(f\"Mandy's favorite number is {num}.\")\n",
    "\n",
    "num = favorite_numbers['micah']\n",
    "print(f\"Micah's favorite number is {num}.\")\n",
    "\n",
    "num = favorite_numbers['gus']\n",
    "print(f\"Gus's favorite number is {num}.\")\n",
    "\n",
    "num = favorite_numbers['hank']\n",
    "print(f\"Hank's favorite number is {num}.\")\n"
   ]
  },
  {
   "cell_type": "code",
   "execution_count": 372,
   "id": "fc6ed1f4",
   "metadata": {},
   "outputs": [
    {
     "name": "stdout",
     "output_type": "stream",
     "text": [
      "\n",
      "Mandy likes the following numbers:\n",
      "  42\n",
      "  47\n",
      "  23422\n",
      "  9234023\n",
      "\n",
      "Micah likes the following numbers:\n",
      "  23\n",
      "  23\n",
      "  858383\n",
      "\n",
      "Gus likes the following numbers:\n",
      "  1\n",
      "  2\n",
      "  45\n",
      "\n",
      "Hank likes the following numbers:\n",
      "  23\n",
      "  222222222\n",
      "  44444444\n"
     ]
    }
   ],
   "source": [
    "favorite_numbers = {\n",
    "    'mandy': [42, 47, 23422, 9234023],\n",
    "    'micah': [23, 23, 858383],\n",
    "    'gus': [1, 2, 45],\n",
    "    'hank': [23, 222222222, 44444444],\n",
    "    }\n",
    "\n",
    "for name, numbers in favorite_numbers.items():\n",
    "    print(f\"\\n{name.title()} likes the following numbers:\")\n",
    "    for number in numbers:\n",
    "        print(f\"  {number}\")"
   ]
  },
  {
   "cell_type": "code",
   "execution_count": 373,
   "id": "8feaeca4",
   "metadata": {},
   "outputs": [],
   "source": [
    "#Exercise 6-11. Cities:"
   ]
  },
  {
   "cell_type": "code",
   "execution_count": 374,
   "id": "4936e3ec",
   "metadata": {},
   "outputs": [
    {
     "name": "stdout",
     "output_type": "stream",
     "text": [
      "\n",
      "Santiago is in Chile.\n",
      "  It has a population of about 6310000.\n",
      "  The Andes mounats are nearby.\n",
      "\n",
      "Talkeetna is in United States.\n",
      "  It has a population of about 876.\n",
      "  The Alaska Range mounats are nearby.\n",
      "\n",
      "Kathmandu is in Nepal.\n",
      "  It has a population of about 975453.\n",
      "  The Himilaya mounats are nearby.\n"
     ]
    }
   ],
   "source": [
    "cities = {\n",
    "    'santiago': {\n",
    "        'country': 'chile',\n",
    "        'population': 6_310_000,\n",
    "        'nearby mountains': 'andes',\n",
    "        },\n",
    "    'talkeetna': {\n",
    "        'country': 'united states',\n",
    "        'population': 876,\n",
    "        'nearby mountains': 'alaska range',\n",
    "        },\n",
    "    'kathmandu': {\n",
    "        'country': 'nepal',\n",
    "        'population': 975_453,\n",
    "        'nearby mountains': 'himilaya',\n",
    "        }\n",
    "    }\n",
    "\n",
    "for city, city_info in cities.items():\n",
    "    country = city_info['country'].title()\n",
    "    population = city_info['population']\n",
    "    mountains = city_info['nearby mountains'].title()\n",
    "\n",
    "    print(f\"\\n{city.title()} is in {country}.\")\n",
    "    print(f\"  It has a population of about {population}.\")\n",
    "    print(f\"  The {mountains} mounats are nearby.\")"
   ]
  },
  {
   "cell_type": "code",
   "execution_count": null,
   "id": "4bdf274e",
   "metadata": {},
   "outputs": [],
   "source": []
  },
  {
   "cell_type": "code",
   "execution_count": null,
   "id": "3d61a093",
   "metadata": {},
   "outputs": [],
   "source": []
  },
  {
   "cell_type": "code",
   "execution_count": null,
   "id": "bfc50f81",
   "metadata": {},
   "outputs": [],
   "source": []
  },
  {
   "cell_type": "code",
   "execution_count": null,
   "id": "50f04377",
   "metadata": {},
   "outputs": [],
   "source": []
  }
 ],
 "metadata": {
  "kernelspec": {
   "display_name": "Python 3 (ipykernel)",
   "language": "python",
   "name": "python3"
  },
  "language_info": {
   "codemirror_mode": {
    "name": "ipython",
    "version": 3
   },
   "file_extension": ".py",
   "mimetype": "text/x-python",
   "name": "python",
   "nbconvert_exporter": "python",
   "pygments_lexer": "ipython3",
   "version": "3.9.5"
  }
 },
 "nbformat": 4,
 "nbformat_minor": 5
}

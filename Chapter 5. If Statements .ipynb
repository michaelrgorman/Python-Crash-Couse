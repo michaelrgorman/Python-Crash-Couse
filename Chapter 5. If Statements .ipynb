{
 "cells": [
  {
   "cell_type": "code",
   "execution_count": 1,
   "id": "49fb2e12",
   "metadata": {},
   "outputs": [],
   "source": [
    "#A Simple Example"
   ]
  },
  {
   "cell_type": "code",
   "execution_count": 3,
   "id": "0108a2c0",
   "metadata": {},
   "outputs": [
    {
     "name": "stdout",
     "output_type": "stream",
     "text": [
      "BMW\n",
      "Ford\n",
      "Toyota\n",
      "Audi\n"
     ]
    }
   ],
   "source": [
    "cars = ['bmw' , 'ford', 'toyota', 'audi']\n",
    "for car in cars:\n",
    "    if car == 'bmw':\n",
    "        print(car.upper())\n",
    "    else:\n",
    "        print(car.title())"
   ]
  },
  {
   "cell_type": "code",
   "execution_count": 5,
   "id": "eb40aceb",
   "metadata": {},
   "outputs": [
    {
     "data": {
      "text/plain": [
       "True"
      ]
     },
     "execution_count": 5,
     "metadata": {},
     "output_type": "execute_result"
    }
   ],
   "source": [
    "car = 'bmw'\n",
    "car == 'bmw'"
   ]
  },
  {
   "cell_type": "code",
   "execution_count": 6,
   "id": "4227d1af",
   "metadata": {},
   "outputs": [
    {
     "data": {
      "text/plain": [
       "False"
      ]
     },
     "execution_count": 6,
     "metadata": {},
     "output_type": "execute_result"
    }
   ],
   "source": [
    "car = 'bmw'\n",
    "car == 'Toyota'"
   ]
  },
  {
   "cell_type": "code",
   "execution_count": 12,
   "id": "b2756cd4",
   "metadata": {},
   "outputs": [
    {
     "data": {
      "text/plain": [
       "True"
      ]
     },
     "execution_count": 12,
     "metadata": {},
     "output_type": "execute_result"
    }
   ],
   "source": [
    "car = 'BMW'\n",
    "car.lower() == 'bmw' #converts BMW > bmw "
   ]
  },
  {
   "cell_type": "code",
   "execution_count": 13,
   "id": "04942bda",
   "metadata": {},
   "outputs": [
    {
     "data": {
      "text/plain": [
       "'BMW'"
      ]
     },
     "execution_count": 13,
     "metadata": {},
     "output_type": "execute_result"
    }
   ],
   "source": [
    "car"
   ]
  },
  {
   "cell_type": "code",
   "execution_count": 14,
   "id": "0f1acf0c",
   "metadata": {},
   "outputs": [],
   "source": [
    "#Checking for Inequality"
   ]
  },
  {
   "cell_type": "code",
   "execution_count": 15,
   "id": "be6c6388",
   "metadata": {},
   "outputs": [],
   "source": [
    "# != means"
   ]
  },
  {
   "cell_type": "code",
   "execution_count": 19,
   "id": "4904db45",
   "metadata": {},
   "outputs": [
    {
     "name": "stdout",
     "output_type": "stream",
     "text": [
      "hold the ham\n",
      "add the ham\n"
     ]
    }
   ],
   "source": [
    "toppings = 'tomato'\n",
    "if toppings != 'ham':\n",
    "    print(\"hold the ham\")\n",
    "    \n",
    "toppings = 'ham'\n",
    "if toppings != 'ham':\n",
    "    print(\"hold the ham\")\n",
    "else:\n",
    "    print(\"add the ham\")"
   ]
  },
  {
   "cell_type": "code",
   "execution_count": 20,
   "id": "2434f8cd",
   "metadata": {},
   "outputs": [],
   "source": [
    "#Numerical Comparisons"
   ]
  },
  {
   "cell_type": "code",
   "execution_count": 21,
   "id": "bd03c1bf",
   "metadata": {},
   "outputs": [
    {
     "data": {
      "text/plain": [
       "False"
      ]
     },
     "execution_count": 21,
     "metadata": {},
     "output_type": "execute_result"
    }
   ],
   "source": [
    "age = 10\n",
    "age == 11"
   ]
  },
  {
   "cell_type": "code",
   "execution_count": 22,
   "id": "d918e34b",
   "metadata": {},
   "outputs": [
    {
     "data": {
      "text/plain": [
       "True"
      ]
     },
     "execution_count": 22,
     "metadata": {},
     "output_type": "execute_result"
    }
   ],
   "source": [
    "age = 10\n",
    "age != 11"
   ]
  },
  {
   "cell_type": "code",
   "execution_count": 28,
   "id": "f31c01f2",
   "metadata": {},
   "outputs": [
    {
     "name": "stdout",
     "output_type": "stream",
     "text": [
      "you are young\n"
     ]
    }
   ],
   "source": [
    "age = 149\n",
    "\n",
    "if age != 20:\n",
    "    print(\"you are young\")\n",
    "else:\n",
    "    print('old')"
   ]
  },
  {
   "cell_type": "code",
   "execution_count": 29,
   "id": "55da6fc7",
   "metadata": {},
   "outputs": [],
   "source": [
    "#Checking Multiple Conditions"
   ]
  },
  {
   "cell_type": "code",
   "execution_count": 37,
   "id": "4685a8cd",
   "metadata": {},
   "outputs": [
    {
     "data": {
      "text/plain": [
       "False"
      ]
     },
     "execution_count": 37,
     "metadata": {},
     "output_type": "execute_result"
    }
   ],
   "source": [
    "age_0 = 21\n",
    "age_1 = 18\n",
    "age_0 >=  21 and age_1>=21"
   ]
  },
  {
   "cell_type": "code",
   "execution_count": 36,
   "id": "da244fd3",
   "metadata": {},
   "outputs": [
    {
     "data": {
      "text/plain": [
       "True"
      ]
     },
     "execution_count": 36,
     "metadata": {},
     "output_type": "execute_result"
    }
   ],
   "source": [
    "age_0 >=  21 and age_1<=21"
   ]
  },
  {
   "cell_type": "code",
   "execution_count": 38,
   "id": "c8abda75",
   "metadata": {},
   "outputs": [
    {
     "data": {
      "text/plain": [
       "False"
      ]
     },
     "execution_count": 38,
     "metadata": {},
     "output_type": "execute_result"
    }
   ],
   "source": [
    "(age_0 >= 21) and (age_1 >= 21)"
   ]
  },
  {
   "cell_type": "code",
   "execution_count": null,
   "id": "503b9ee6",
   "metadata": {},
   "outputs": [],
   "source": [
    "#Checking Whether a Value Is in a List"
   ]
  },
  {
   "cell_type": "code",
   "execution_count": 41,
   "id": "f66f4b6a",
   "metadata": {},
   "outputs": [
    {
     "data": {
      "text/plain": [
       "True"
      ]
     },
     "execution_count": 41,
     "metadata": {},
     "output_type": "execute_result"
    }
   ],
   "source": [
    "requested_toppings = ['mushrooms', 'onions', 'pineapple']\n",
    "'mushrooms' in requested_toppings"
   ]
  },
  {
   "cell_type": "code",
   "execution_count": 42,
   "id": "6d090eff",
   "metadata": {},
   "outputs": [
    {
     "data": {
      "text/plain": [
       "False"
      ]
     },
     "execution_count": 42,
     "metadata": {},
     "output_type": "execute_result"
    }
   ],
   "source": [
    "'pepperoni' in requested_toppings"
   ]
  },
  {
   "cell_type": "code",
   "execution_count": 43,
   "id": "d373ea1a",
   "metadata": {},
   "outputs": [],
   "source": [
    "#Checking Whether a Value Is Not in a List"
   ]
  },
  {
   "cell_type": "code",
   "execution_count": 49,
   "id": "70d701c8",
   "metadata": {},
   "outputs": [
    {
     "name": "stdout",
     "output_type": "stream",
     "text": [
      "Do not add Eggs to the pizza\n"
     ]
    }
   ],
   "source": [
    "topping = 'eggs'\n",
    "\n",
    "if topping not in requested_toppings:\n",
    "    print(f\"Do not add {topping.title()} to the pizza\")\n",
    "else:\n",
    "    print(f\"Add {topping.title()}\")"
   ]
  },
  {
   "cell_type": "code",
   "execution_count": 50,
   "id": "3fa3dc48",
   "metadata": {},
   "outputs": [
    {
     "name": "stdout",
     "output_type": "stream",
     "text": [
      "Add Mushrooms\n"
     ]
    }
   ],
   "source": [
    "topping = 'mushrooms'\n",
    "\n",
    "if topping not in requested_toppings:\n",
    "    print(f\"Do not add {topping.title()} to the pizza\")\n",
    "else:\n",
    "    print(f\"Add {topping.title()}\")"
   ]
  },
  {
   "cell_type": "code",
   "execution_count": 51,
   "id": "214dc845",
   "metadata": {},
   "outputs": [],
   "source": [
    "#Exercise 5-1. Conditional Tests:"
   ]
  },
  {
   "cell_type": "code",
   "execution_count": 54,
   "id": "230dce8b",
   "metadata": {},
   "outputs": [
    {
     "name": "stdout",
     "output_type": "stream",
     "text": [
      "Is car == 'subaru'? I predict True.\n",
      "True\n",
      "\n",
      "Is car == 'audi'? I predict False.\n",
      "False\n"
     ]
    }
   ],
   "source": [
    "car = 'subaru'\n",
    "print(\"Is car == 'subaru'? I predict True.\")\n",
    "print(car == 'subaru')\n",
    "print(\"\\nIs car == 'audi'? I predict False.\")\n",
    "print(car == 'audi')"
   ]
  },
  {
   "cell_type": "code",
   "execution_count": 57,
   "id": "1d2801ad",
   "metadata": {},
   "outputs": [
    {
     "data": {
      "text/plain": [
       "True"
      ]
     },
     "execution_count": 57,
     "metadata": {},
     "output_type": "execute_result"
    }
   ],
   "source": [
    "car == 'subaru'"
   ]
  },
  {
   "cell_type": "code",
   "execution_count": 58,
   "id": "af7b6389",
   "metadata": {},
   "outputs": [
    {
     "data": {
      "text/plain": [
       "False"
      ]
     },
     "execution_count": 58,
     "metadata": {},
     "output_type": "execute_result"
    }
   ],
   "source": [
    "car == 'Subaru'"
   ]
  },
  {
   "cell_type": "code",
   "execution_count": 63,
   "id": "359648de",
   "metadata": {},
   "outputs": [
    {
     "data": {
      "text/plain": [
       "True"
      ]
     },
     "execution_count": 63,
     "metadata": {},
     "output_type": "execute_result"
    }
   ],
   "source": [
    "car.upper() == 'SUBARU'"
   ]
  },
  {
   "cell_type": "code",
   "execution_count": 92,
   "id": "9d2b317f",
   "metadata": {},
   "outputs": [
    {
     "name": "stdout",
     "output_type": "stream",
     "text": [
      " the age is 6\n"
     ]
    }
   ],
   "source": [
    "age = 6\n",
    "\n",
    "if age >= 7 or age <= 5:\n",
    "    print(\"good\")\n",
    "else:\n",
    "    print(f\" the age is {age}\")\n"
   ]
  },
  {
   "cell_type": "code",
   "execution_count": 94,
   "id": "7bccd93d",
   "metadata": {},
   "outputs": [],
   "source": [
    "#Simple if Statements"
   ]
  },
  {
   "cell_type": "code",
   "execution_count": 98,
   "id": "e9d97c6c",
   "metadata": {},
   "outputs": [
    {
     "name": "stdout",
     "output_type": "stream",
     "text": [
      "You are old enough to vote!\n"
     ]
    }
   ],
   "source": [
    "age = 19\n",
    "if age >= 18:\n",
    "    print(\"You are old enough to vote!\")"
   ]
  },
  {
   "cell_type": "code",
   "execution_count": 103,
   "id": "5407b9d5",
   "metadata": {},
   "outputs": [
    {
     "name": "stdout",
     "output_type": "stream",
     "text": [
      "Sorry, you are too young to vote\n",
      "Please register to vote as soon as you turn 18\n"
     ]
    }
   ],
   "source": [
    "age = 17\n",
    "if age >= 18:\n",
    "    print(\"You are old enough to vote!\")\n",
    "    print(\"Have you registered to vote yet?\")\n",
    "else:\n",
    "    print(\"Sorry, you are too young to vote\")\n",
    "    print(\"Please register to vote as soon as you turn 18\")"
   ]
  },
  {
   "cell_type": "code",
   "execution_count": 104,
   "id": "d9b8373d",
   "metadata": {},
   "outputs": [],
   "source": [
    "#The if-elif-else Chain"
   ]
  },
  {
   "cell_type": "code",
   "execution_count": 105,
   "id": "f69d3d1e",
   "metadata": {},
   "outputs": [
    {
     "name": "stdout",
     "output_type": "stream",
     "text": [
      "You are $11\n"
     ]
    }
   ],
   "source": [
    "age = 12 \n",
    "if age < 2:\n",
    "    print(\"You are $0\")\n",
    "elif age < 18:\n",
    "    print(\"You are $11\")\n",
    "else:\n",
    "    print(\"you are full price bro\")"
   ]
  },
  {
   "cell_type": "code",
   "execution_count": 116,
   "id": "569904ea",
   "metadata": {},
   "outputs": [
    {
     "name": "stdout",
     "output_type": "stream",
     "text": [
      "The cost is $1000!\n"
     ]
    }
   ],
   "source": [
    "age = 18\n",
    "if age < 10:\n",
    "    price = 10\n",
    "elif age < 18:\n",
    "    price = 200\n",
    "else:\n",
    "    price = 1000\n",
    "    \n",
    "print(f\"The cost is ${price}!\")"
   ]
  },
  {
   "cell_type": "code",
   "execution_count": 117,
   "id": "c4427191",
   "metadata": {},
   "outputs": [],
   "source": [
    "#Using Multiple elif Blocks"
   ]
  },
  {
   "cell_type": "code",
   "execution_count": 136,
   "id": "d07bb0b3",
   "metadata": {},
   "outputs": [
    {
     "name": "stdout",
     "output_type": "stream",
     "text": [
      "The cost is $18!\n"
     ]
    }
   ],
   "source": [
    "age = 18\n",
    "\n",
    "if age < 10:\n",
    "    price = 10\n",
    "elif age <17:\n",
    "    price = 101\n",
    "elif age == 18:\n",
    "    price = 18\n",
    "else:\n",
    "    price = 1000\n",
    "\n",
    "print(f\"The cost is ${price}!\")"
   ]
  },
  {
   "cell_type": "code",
   "execution_count": 137,
   "id": "e0693b8e",
   "metadata": {},
   "outputs": [],
   "source": [
    "#Testing Multiple Conditions"
   ]
  },
  {
   "cell_type": "code",
   "execution_count": 139,
   "id": "bb09232c",
   "metadata": {},
   "outputs": [
    {
     "name": "stdout",
     "output_type": "stream",
     "text": [
      "Adding mushrooms.\n",
      "Adding extra cheese.\n",
      "\n",
      "Finished making your pizza!\n"
     ]
    }
   ],
   "source": [
    "#If statements \n",
    "requested_toppings = ['mushrooms', 'extra cheese']\n",
    "if 'mushrooms' in requested_toppings:\n",
    "    print(\"Adding mushrooms.\")\n",
    "if 'pepperoni' in requested_toppings:\n",
    "    print(\"Adding pepperoni.\")\n",
    "if 'extra cheese' in requested_toppings:\n",
    "    print(\"Adding extra cheese.\")\n",
    "\n",
    "    print(\"\\nFinished making your pizza!\")"
   ]
  },
  {
   "cell_type": "code",
   "execution_count": 141,
   "id": "edf8d98e",
   "metadata": {},
   "outputs": [
    {
     "name": "stdout",
     "output_type": "stream",
     "text": [
      "Adding mushrooms.\n"
     ]
    }
   ],
   "source": [
    "#If/else statement \n",
    "requested_toppings = ['mushrooms', 'extra cheese']\n",
    "if 'mushrooms' in requested_toppings:\n",
    "    print(\"Adding mushrooms.\")\n",
    "elif 'pepperoni' in requested_toppings:\n",
    "    print(\"Adding pepperoni.\")\n",
    "elif 'extra cheese' in requested_toppings:\n",
    "    print(\"Adding extra cheese.\")\n",
    "    print(\"\\nFinished making your pizza!\")"
   ]
  },
  {
   "cell_type": "code",
   "execution_count": null,
   "id": "d924ee0e",
   "metadata": {},
   "outputs": [],
   "source": [
    "#Exercise 5-3.  Alien Colors #1."
   ]
  },
  {
   "cell_type": "code",
   "execution_count": 149,
   "id": "804702bc",
   "metadata": {},
   "outputs": [
    {
     "name": "stdout",
     "output_type": "stream",
     "text": [
      "5 points\n"
     ]
    }
   ],
   "source": [
    "alien_color = ['green']\n",
    "if 'green' in alien_color:\n",
    "    print(\"5 points\")  \n",
    "else:\n",
    "    print('0 points')"
   ]
  },
  {
   "cell_type": "code",
   "execution_count": 150,
   "id": "cac8e4ce",
   "metadata": {},
   "outputs": [],
   "source": [
    "#Exercise 5-4. Alien Colors #2"
   ]
  },
  {
   "cell_type": "code",
   "execution_count": 161,
   "id": "c32facd0",
   "metadata": {},
   "outputs": [
    {
     "name": "stdout",
     "output_type": "stream",
     "text": [
      "10 points\n"
     ]
    }
   ],
   "source": [
    "alien_color = ['green']\n",
    "if 'blue' in alien_color:\n",
    "    print(\"5 points for shooting the alien\")  \n",
    "else:\n",
    "    print('10 points')"
   ]
  },
  {
   "cell_type": "code",
   "execution_count": 162,
   "id": "b07adc28",
   "metadata": {},
   "outputs": [],
   "source": [
    "#Exercise 5-5. Alien Colors #2"
   ]
  },
  {
   "cell_type": "code",
   "execution_count": 167,
   "id": "9c579cc9",
   "metadata": {},
   "outputs": [
    {
     "name": "stdout",
     "output_type": "stream",
     "text": [
      "why you kill Mr. red for?\n"
     ]
    }
   ],
   "source": [
    "alien_color2 = ['red']\n",
    "if 'blue' in alien_color2:\n",
    "    print(\"5 points for shooting the alien\")  \n",
    "elif 'green' in alien_color2:\n",
    "    print('you killed the green guy, 15 points')\n",
    "elif 'red' in alien_color2:\n",
    "    print(\"why you kill Mr. red for?\")"
   ]
  },
  {
   "cell_type": "code",
   "execution_count": 168,
   "id": "ffedb06f",
   "metadata": {},
   "outputs": [
    {
     "name": "stdout",
     "output_type": "stream",
     "text": [
      "5 points for shooting the alien\n"
     ]
    }
   ],
   "source": [
    "alien_color2 = ['blue']\n",
    "if 'blue' in alien_color2:\n",
    "    print(\"5 points for shooting the alien\")  \n",
    "elif 'green' in alien_color2:\n",
    "    print('you killed the green guy, 15 points')\n",
    "elif 'red' in alien_color2:\n",
    "    print(\"why you kill Mr. red for?\")"
   ]
  },
  {
   "cell_type": "code",
   "execution_count": 169,
   "id": "7ee72588",
   "metadata": {},
   "outputs": [
    {
     "name": "stdout",
     "output_type": "stream",
     "text": [
      "you killed the green guy, 15 points\n"
     ]
    }
   ],
   "source": [
    "alien_color2 = ['green']\n",
    "if 'blue' in alien_color2:\n",
    "    print(\"5 points for shooting the alien\")  \n",
    "elif 'green' in alien_color2:\n",
    "    print('you killed the green guy, 15 points')\n",
    "elif 'red' in alien_color2:\n",
    "    print(\"why you kill Mr. red for?\")"
   ]
  },
  {
   "cell_type": "code",
   "execution_count": 170,
   "id": "fe9be2d9",
   "metadata": {},
   "outputs": [],
   "source": [
    "#Exercise 5-6  Stages of Life:"
   ]
  },
  {
   "cell_type": "code",
   "execution_count": 175,
   "id": "1a15d415",
   "metadata": {},
   "outputs": [
    {
     "name": "stdout",
     "output_type": "stream",
     "text": [
      "What you doing still working?\n"
     ]
    }
   ],
   "source": [
    "age = 66\n",
    "if age < 2:\n",
    "    print (\"You are a baby\")\n",
    "elif age < 4:\n",
    "    print (\"You are a toddler\")\n",
    "elif age < 13:\n",
    "    print(\"You are a kid\")\n",
    "elif age < 20:\n",
    "    print(\"You are a teen, probably\")\n",
    "elif age > 65:\n",
    "    print(\"What you doing still working?\")"
   ]
  },
  {
   "cell_type": "code",
   "execution_count": 176,
   "id": "765c9dd1",
   "metadata": {},
   "outputs": [],
   "source": [
    "#Exercise 5-7 Favourite meal:"
   ]
  },
  {
   "cell_type": "code",
   "execution_count": 180,
   "id": "0106f657",
   "metadata": {},
   "outputs": [
    {
     "name": "stdout",
     "output_type": "stream",
     "text": [
      "You like apples\n",
      "yummy\n"
     ]
    }
   ],
   "source": [
    "fruits = [\"apple\",\"banana\",\"pear\"]\n",
    "if 'apple' in fruits:\n",
    "    print(\"You like apples\")\n",
    "if 'peach' in fruits:\n",
    "    print(\"you like peaches\")\n",
    "if 'banana' in fruits:\n",
    "    print(\"yummy\")"
   ]
  },
  {
   "cell_type": "code",
   "execution_count": 181,
   "id": "1f31672a",
   "metadata": {},
   "outputs": [],
   "source": [
    "#Checking for Special Items"
   ]
  },
  {
   "cell_type": "code",
   "execution_count": 191,
   "id": "c0fb36f6",
   "metadata": {},
   "outputs": [
    {
     "name": "stdout",
     "output_type": "stream",
     "text": [
      "adding mushrooms.\n",
      "Sorry we are out on onions.\n",
      "adding pineapple.\n",
      "\n",
      "Finished making your pizza\n"
     ]
    }
   ],
   "source": [
    "requested_toppings = ['mushrooms', 'onions', 'pineapple']\n",
    "for requested_topping in requested_toppings:\n",
    "    if requested_topping == 'onions':\n",
    "        print(f\"Sorry we are out on {requested_topping}.\")\n",
    "    else:\n",
    "        print(f\"adding {requested_topping}.\")\n",
    "\n",
    "print(\"\\nFinished making your pizza\")"
   ]
  },
  {
   "cell_type": "code",
   "execution_count": 192,
   "id": "7b8b4b48",
   "metadata": {},
   "outputs": [],
   "source": [
    "#Checking That a List Is Not Empty"
   ]
  },
  {
   "cell_type": "code",
   "execution_count": 196,
   "id": "5b049948",
   "metadata": {},
   "outputs": [
    {
     "name": "stdout",
     "output_type": "stream",
     "text": [
      "Are you sure you want a plain pizza\n"
     ]
    }
   ],
   "source": [
    "requested_toppings = []\n",
    "if requested_toppings:\n",
    "    for requested_topping in requested_toppings:\n",
    "        print(f\"Adding {requested_topping}.\")\n",
    "        print(f\"Finished making your pizza!\")\n",
    "else:\n",
    "        print(\"Are you sure you want a plain pizza\")"
   ]
  },
  {
   "cell_type": "code",
   "execution_count": 197,
   "id": "82d4912a",
   "metadata": {},
   "outputs": [],
   "source": [
    "#Using Multiple Lists"
   ]
  },
  {
   "cell_type": "code",
   "execution_count": 201,
   "id": "c17537c4",
   "metadata": {},
   "outputs": [
    {
     "name": "stdout",
     "output_type": "stream",
     "text": [
      "Adding mushrooms\n",
      "Sorry, we don't have french fries.\n",
      "Adding extra cheese\n",
      "\n",
      "Your pizza is finished\n"
     ]
    }
   ],
   "source": [
    "available_toppings = ['mushrooms', 'olives', 'green peppers',\n",
    "'pepperoni', 'pineapple', 'extra cheese']\n",
    "requested_toppings =  ['mushrooms', 'french fries', 'extra cheese']\n",
    "\n",
    "for requested_topping in requested_toppings:\n",
    "    if requested_topping in available_toppings:\n",
    "        print(f\"Adding {requested_topping}\")\n",
    "    else:\n",
    "        print(f\"Sorry, we don't have {requested_topping}.\")\n",
    "\n",
    "print(\"\\nYour pizza is finished\")"
   ]
  },
  {
   "cell_type": "code",
   "execution_count": 202,
   "id": "70a9b76c",
   "metadata": {},
   "outputs": [],
   "source": [
    "#Exercise 5-8. Hello Admin:"
   ]
  },
  {
   "cell_type": "code",
   "execution_count": 234,
   "id": "8974c5eb",
   "metadata": {},
   "outputs": [
    {
     "name": "stdout",
     "output_type": "stream",
     "text": [
      "Hello admin, welcome to the computer \n",
      "Welcome User1 welcome to the computer\n",
      "Welcome User2 welcome to the computer\n",
      "Welcome User3 welcome to the computer\n",
      "Welcome User4 welcome to the computer\n",
      "Welcome User5 welcome to the computer\n"
     ]
    }
   ],
   "source": [
    "usernames = ['admin', 'User1', 'User2', 'User3', 'User4', 'User5']\n",
    "\n",
    "for username in usernames:\n",
    "    if username == 'admin':\n",
    "        print('Hello admin, welcome to the computer ')\n",
    "    else: \n",
    "        print(f\"Welcome {username} welcome to the computer\")"
   ]
  },
  {
   "cell_type": "code",
   "execution_count": null,
   "id": "912701d4",
   "metadata": {},
   "outputs": [],
   "source": [
    "#Exercise 5-9. No Users"
   ]
  },
  {
   "cell_type": "code",
   "execution_count": 236,
   "id": "dc9639fc",
   "metadata": {},
   "outputs": [
    {
     "name": "stdout",
     "output_type": "stream",
     "text": [
      "There is no users\n"
     ]
    }
   ],
   "source": [
    "usernames = []\n",
    "\n",
    "for username in usernames:\n",
    "    if username == 'admin':\n",
    "        print('Hello admin, welcome to the computer ')\n",
    "    else: \n",
    "        print(f\"Welcome {username} welcome to the computer\")\n",
    "else:\n",
    "    print(\"There is no users\")"
   ]
  },
  {
   "cell_type": "code",
   "execution_count": null,
   "id": "48bb9a2c",
   "metadata": {},
   "outputs": [],
   "source": [
    "#Exercise 5-10. Checking Usernames: "
   ]
  },
  {
   "cell_type": "code",
   "execution_count": 253,
   "id": "8bc3d61e",
   "metadata": {},
   "outputs": [
    {
     "name": "stdout",
     "output_type": "stream",
     "text": [
      "The user name'John'is taken. Please pick another\n",
      "The user name'7' is available\n",
      "The user name'8' is available\n",
      "The user name'4'is taken. Please pick another\n",
      "The user name'5'is taken. Please pick another\n"
     ]
    }
   ],
   "source": [
    "current_users = ['John', '2', '3', '4', '5']\n",
    "new_users = ['John', '7', '8', '4', '5']\n",
    "\n",
    "for new_user in new_users:\n",
    "    if new_user in current_users:\n",
    "        print(f\"The user name'{new_user}'is taken. Please pick another\")\n",
    "    else:\n",
    "        print(f\"The user name'{new_user}' is available\")"
   ]
  },
  {
   "cell_type": "code",
   "execution_count": 254,
   "id": "3d5b37dc",
   "metadata": {},
   "outputs": [],
   "source": [
    "#Exercise 5-11. Ordinal Numbers:"
   ]
  },
  {
   "cell_type": "code",
   "execution_count": 263,
   "id": "0e470a47",
   "metadata": {},
   "outputs": [
    {
     "name": "stdout",
     "output_type": "stream",
     "text": [
      "1st\n",
      "2nd\n"
     ]
    }
   ],
   "source": [
    "numbers = [1, 2, 3, 4, 5, 6, 7, 8, 9]\n",
    "\n",
    "for number in numbers:\n",
    "    if number == 1:\n",
    "        print(f\"{number}st\")\n",
    "    elif number == 2:\n",
    "        print(f\"{number}nd\")\n",
    "    elif number == 2:\n",
    "        print(f\"{number}nd\")"
   ]
  },
  {
   "cell_type": "code",
   "execution_count": null,
   "id": "7be8fc53",
   "metadata": {},
   "outputs": [],
   "source": []
  },
  {
   "cell_type": "code",
   "execution_count": null,
   "id": "55711c68",
   "metadata": {},
   "outputs": [],
   "source": []
  },
  {
   "cell_type": "code",
   "execution_count": null,
   "id": "e73694d5",
   "metadata": {},
   "outputs": [],
   "source": []
  },
  {
   "cell_type": "code",
   "execution_count": null,
   "id": "bf1782ca",
   "metadata": {},
   "outputs": [],
   "source": []
  },
  {
   "cell_type": "code",
   "execution_count": null,
   "id": "8e88f2ac",
   "metadata": {},
   "outputs": [],
   "source": []
  },
  {
   "cell_type": "code",
   "execution_count": null,
   "id": "ce5245de",
   "metadata": {},
   "outputs": [],
   "source": []
  },
  {
   "cell_type": "code",
   "execution_count": null,
   "id": "eb429212",
   "metadata": {},
   "outputs": [],
   "source": []
  }
 ],
 "metadata": {
  "kernelspec": {
   "display_name": "Python 3 (ipykernel)",
   "language": "python",
   "name": "python3"
  },
  "language_info": {
   "codemirror_mode": {
    "name": "ipython",
    "version": 3
   },
   "file_extension": ".py",
   "mimetype": "text/x-python",
   "name": "python",
   "nbconvert_exporter": "python",
   "pygments_lexer": "ipython3",
   "version": "3.9.5"
  }
 },
 "nbformat": 4,
 "nbformat_minor": 5
}

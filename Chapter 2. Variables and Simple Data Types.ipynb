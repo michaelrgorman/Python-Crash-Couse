{
 "cells": [
  {
   "cell_type": "code",
   "execution_count": 6,
   "id": "62cf0fac",
   "metadata": {},
   "outputs": [
    {
     "name": "stdout",
     "output_type": "stream",
     "text": [
      "Hello Python world!\n"
     ]
    }
   ],
   "source": [
    "message = \"Hello Python world!\"\n",
    "print(message)"
   ]
  },
  {
   "cell_type": "code",
   "execution_count": 7,
   "id": "81e78e90",
   "metadata": {},
   "outputs": [
    {
     "name": "stdout",
     "output_type": "stream",
     "text": [
      "Hello Python world!\n",
      "Hello Python crash world!\n"
     ]
    }
   ],
   "source": [
    "message = \"Hello Python world!\"\n",
    "print(message)\n",
    "message = \"Hello Python crash world!\"\n",
    "print(message)"
   ]
  },
  {
   "cell_type": "code",
   "execution_count": 8,
   "id": "a3439f83",
   "metadata": {},
   "outputs": [],
   "source": [
    "#Testing error's "
   ]
  },
  {
   "cell_type": "code",
   "execution_count": 9,
   "id": "73901d66",
   "metadata": {},
   "outputs": [
    {
     "ename": "NameError",
     "evalue": "name 'mesage' is not defined",
     "output_type": "error",
     "traceback": [
      "\u001b[1;31m---------------------------------------------------------------------------\u001b[0m",
      "\u001b[1;31mNameError\u001b[0m                                 Traceback (most recent call last)",
      "\u001b[1;32m~\\AppData\\Local\\Temp/ipykernel_1984/82042849.py\u001b[0m in \u001b[0;36m<module>\u001b[1;34m\u001b[0m\n\u001b[0;32m      1\u001b[0m \u001b[0mmessage\u001b[0m \u001b[1;33m=\u001b[0m \u001b[1;34m\"Hello Python Crash Course reader!\"\u001b[0m\u001b[1;33m\u001b[0m\u001b[1;33m\u001b[0m\u001b[0m\n\u001b[1;32m----> 2\u001b[1;33m \u001b[0mprint\u001b[0m\u001b[1;33m(\u001b[0m\u001b[0mmesage\u001b[0m\u001b[1;33m)\u001b[0m\u001b[1;33m\u001b[0m\u001b[1;33m\u001b[0m\u001b[0m\n\u001b[0m",
      "\u001b[1;31mNameError\u001b[0m: name 'mesage' is not defined"
     ]
    }
   ],
   "source": [
    "message = \"Hello Python Crash Course reader!\"\n",
    "print(mesage)"
   ]
  },
  {
   "cell_type": "code",
   "execution_count": 10,
   "id": "ab17ad84",
   "metadata": {},
   "outputs": [
    {
     "name": "stdout",
     "output_type": "stream",
     "text": [
      "Hello Python Crash Course reader!\n"
     ]
    }
   ],
   "source": [
    "mesage = \"Hello Python Crash Course reader!\"\n",
    "print(mesage)"
   ]
  },
  {
   "cell_type": "code",
   "execution_count": 11,
   "id": "48141c2a",
   "metadata": {},
   "outputs": [
    {
     "name": "stdout",
     "output_type": "stream",
     "text": [
      "This is a test message\n"
     ]
    }
   ],
   "source": [
    "message = \"This is a test message\"\n",
    "print(message)"
   ]
  },
  {
   "cell_type": "code",
   "execution_count": 12,
   "id": "71c0e891",
   "metadata": {},
   "outputs": [],
   "source": [
    "#Changing Case in a String with Methods"
   ]
  },
  {
   "cell_type": "code",
   "execution_count": 13,
   "id": "9e2c34e2",
   "metadata": {},
   "outputs": [
    {
     "name": "stdout",
     "output_type": "stream",
     "text": [
      "Ada Lovelace\n"
     ]
    }
   ],
   "source": [
    "name = \"ada lovelace\"\n",
    "print(name.title())"
   ]
  },
  {
   "cell_type": "code",
   "execution_count": 14,
   "id": "dc2f3462",
   "metadata": {},
   "outputs": [
    {
     "name": "stdout",
     "output_type": "stream",
     "text": [
      "ADA LOVELACE\n",
      "ada lovelace\n"
     ]
    }
   ],
   "source": [
    "name = \"ada lovelace\"\n",
    "print(name.upper())\n",
    "print(name.lower())"
   ]
  },
  {
   "cell_type": "code",
   "execution_count": 15,
   "id": "feef7ee5",
   "metadata": {},
   "outputs": [
    {
     "name": "stdout",
     "output_type": "stream",
     "text": [
      "Michael Gorman\n"
     ]
    }
   ],
   "source": [
    "first_name = 'Michael'\n",
    "last_name = 'Gorman'\n",
    "full_name = f'{first_name} {last_name}' #f = format\n",
    "print(full_name)"
   ]
  },
  {
   "cell_type": "code",
   "execution_count": 16,
   "id": "a3c91bd5",
   "metadata": {},
   "outputs": [
    {
     "name": "stdout",
     "output_type": "stream",
     "text": [
      "Hello, Michael Gorman!\n"
     ]
    }
   ],
   "source": [
    "first_name = \"Michael\"\n",
    "last_name = \"Gorman\"\n",
    "full_name = f\"{first_name} {last_name}\"\n",
    "print(f\"Hello, {full_name.title()}!\")"
   ]
  },
  {
   "cell_type": "code",
   "execution_count": 17,
   "id": "690e2be4",
   "metadata": {},
   "outputs": [
    {
     "name": "stdout",
     "output_type": "stream",
     "text": [
      "Hello Michael Gorman!\n"
     ]
    }
   ],
   "source": [
    "first_name = \"Michael\"\n",
    "last_name = \"Gorman\"\n",
    "full_name = f\"{first_name} {last_name}\"\n",
    "message = f\"Hello {full_name.title()}!\"\n",
    "print(message)"
   ]
  },
  {
   "cell_type": "code",
   "execution_count": 18,
   "id": "be43cb29",
   "metadata": {},
   "outputs": [],
   "source": [
    "#Adding Whitespace to Strings with Tabs or Newlines"
   ]
  },
  {
   "cell_type": "code",
   "execution_count": 19,
   "id": "65b7c51a",
   "metadata": {},
   "outputs": [
    {
     "name": "stdout",
     "output_type": "stream",
     "text": [
      "Hello\n"
     ]
    }
   ],
   "source": [
    "print(\"Hello\")"
   ]
  },
  {
   "cell_type": "code",
   "execution_count": 20,
   "id": "f395c4bc",
   "metadata": {},
   "outputs": [
    {
     "name": "stdout",
     "output_type": "stream",
     "text": [
      "\tHello\n"
     ]
    }
   ],
   "source": [
    "print(\"\\tHello\")"
   ]
  },
  {
   "cell_type": "code",
   "execution_count": 21,
   "id": "ed88cb4d",
   "metadata": {},
   "outputs": [
    {
     "name": "stdout",
     "output_type": "stream",
     "text": [
      "Languages:\n",
      "Python\n",
      "C\n",
      "JavaScript\n"
     ]
    }
   ],
   "source": [
    "print(\"Languages:\\nPython\\nC\\nJavaScript\") #Creating a 'list'"
   ]
  },
  {
   "cell_type": "code",
   "execution_count": 22,
   "id": "9e260d1e",
   "metadata": {},
   "outputs": [
    {
     "name": "stdout",
     "output_type": "stream",
     "text": [
      "Languages:\n",
      "\tPython\n",
      "\tC\n",
      "\tJavaScript\n"
     ]
    }
   ],
   "source": [
    "print(\"Languages:\\n\\tPython\\n\\tC\\n\\tJavaScript\")"
   ]
  },
  {
   "cell_type": "code",
   "execution_count": 23,
   "id": "2b20134c",
   "metadata": {},
   "outputs": [],
   "source": [
    "#Stripping Whitespace"
   ]
  },
  {
   "cell_type": "code",
   "execution_count": 24,
   "id": "5ebaa9e9",
   "metadata": {},
   "outputs": [
    {
     "data": {
      "text/plain": [
       "'michael '"
      ]
     },
     "execution_count": 24,
     "metadata": {},
     "output_type": "execute_result"
    }
   ],
   "source": [
    "name = 'michael '\n",
    "name"
   ]
  },
  {
   "cell_type": "code",
   "execution_count": 25,
   "id": "e8204e8e",
   "metadata": {},
   "outputs": [
    {
     "data": {
      "text/plain": [
       "'michael'"
      ]
     },
     "execution_count": 25,
     "metadata": {},
     "output_type": "execute_result"
    }
   ],
   "source": [
    "name.rstrip()"
   ]
  },
  {
   "cell_type": "code",
   "execution_count": 26,
   "id": "9b1e681d",
   "metadata": {},
   "outputs": [
    {
     "data": {
      "text/plain": [
       "'michael '"
      ]
     },
     "execution_count": 26,
     "metadata": {},
     "output_type": "execute_result"
    }
   ],
   "source": [
    "name"
   ]
  },
  {
   "cell_type": "code",
   "execution_count": 27,
   "id": "8323ad63",
   "metadata": {},
   "outputs": [],
   "source": [
    "#To remove the whitespaces permanently  "
   ]
  },
  {
   "cell_type": "code",
   "execution_count": 28,
   "id": "a33e0085",
   "metadata": {},
   "outputs": [
    {
     "data": {
      "text/plain": [
       "'michael'"
      ]
     },
     "execution_count": 28,
     "metadata": {},
     "output_type": "execute_result"
    }
   ],
   "source": [
    "name = name.rstrip()\n",
    "name"
   ]
  },
  {
   "cell_type": "code",
   "execution_count": 29,
   "id": "ba38cc26",
   "metadata": {},
   "outputs": [
    {
     "data": {
      "text/plain": [
       "' michael'"
      ]
     },
     "execution_count": 29,
     "metadata": {},
     "output_type": "execute_result"
    }
   ],
   "source": [
    "name = ' michael'\n",
    "name\n"
   ]
  },
  {
   "cell_type": "code",
   "execution_count": 30,
   "id": "3477ec24",
   "metadata": {},
   "outputs": [
    {
     "data": {
      "text/plain": [
       "'michael'"
      ]
     },
     "execution_count": 30,
     "metadata": {},
     "output_type": "execute_result"
    }
   ],
   "source": [
    "name = ' michael'\n",
    "name = name.lstrip()\n",
    "name"
   ]
  },
  {
   "cell_type": "code",
   "execution_count": 31,
   "id": "23582218",
   "metadata": {},
   "outputs": [],
   "source": [
    "#Avoiding Syntax Errors with Strings"
   ]
  },
  {
   "cell_type": "code",
   "execution_count": 32,
   "id": "e58f6713",
   "metadata": {},
   "outputs": [
    {
     "name": "stdout",
     "output_type": "stream",
     "text": [
      "One of Python's strengths is its diverse community.\n"
     ]
    }
   ],
   "source": [
    "message = \"One of Python's strengths is its diverse community.\"\n",
    "print(message)"
   ]
  },
  {
   "cell_type": "code",
   "execution_count": 33,
   "id": "75fb7c55",
   "metadata": {},
   "outputs": [
    {
     "ename": "SyntaxError",
     "evalue": "invalid syntax (Temp/ipykernel_1984/1265700866.py, line 1)",
     "output_type": "error",
     "traceback": [
      "\u001b[1;36m  File \u001b[1;32m\"C:\\Users\\micha\\AppData\\Local\\Temp/ipykernel_1984/1265700866.py\"\u001b[1;36m, line \u001b[1;32m1\u001b[0m\n\u001b[1;33m    message = 'One of Python's strengths is its diverse community.'\u001b[0m\n\u001b[1;37m                             ^\u001b[0m\n\u001b[1;31mSyntaxError\u001b[0m\u001b[1;31m:\u001b[0m invalid syntax\n"
     ]
    }
   ],
   "source": [
    "message = 'One of Python's strengths is its diverse community.'\n",
    "print(message)"
   ]
  },
  {
   "cell_type": "code",
   "execution_count": 34,
   "id": "6f0f26e3",
   "metadata": {},
   "outputs": [],
   "source": [
    "#Exercise 2-3 Personal Message:"
   ]
  },
  {
   "cell_type": "code",
   "execution_count": null,
   "id": "91160a69",
   "metadata": {},
   "outputs": [],
   "source": [
    "full_name = 'Michael'\n",
    "print(\"Hello\" + {full_name})"
   ]
  },
  {
   "cell_type": "code",
   "execution_count": 35,
   "id": "18f78ad0",
   "metadata": {},
   "outputs": [],
   "source": [
    "#Exercise 2-4 Personal Message:"
   ]
  },
  {
   "cell_type": "code",
   "execution_count": 39,
   "id": "73fd5eca",
   "metadata": {},
   "outputs": [
    {
     "name": "stdout",
     "output_type": "stream",
     "text": [
      "MICHAEL GORMAN\n",
      "michael gorman\n"
     ]
    }
   ],
   "source": [
    "full_name = \"Michael Gorman\"\n",
    "print(full_name.upper())\n",
    "print(full_name.lower())"
   ]
  },
  {
   "cell_type": "code",
   "execution_count": 40,
   "id": "f8368a55",
   "metadata": {},
   "outputs": [],
   "source": [
    "#Exercise 2-5 Famous Quote:"
   ]
  },
  {
   "cell_type": "code",
   "execution_count": 41,
   "id": "cc22f2c2",
   "metadata": {},
   "outputs": [],
   "source": [
    "quote = '\"Fortune favors the bold.” – Virgil.\"'"
   ]
  },
  {
   "cell_type": "code",
   "execution_count": 43,
   "id": "85b411e8",
   "metadata": {},
   "outputs": [
    {
     "name": "stdout",
     "output_type": "stream",
     "text": [
      "\"Fortune favors the bold.” – Virgil.\"\n"
     ]
    }
   ],
   "source": [
    "print(quote)"
   ]
  },
  {
   "cell_type": "code",
   "execution_count": 44,
   "id": "674a87ab",
   "metadata": {},
   "outputs": [],
   "source": [
    "#Exercise 2-6 Famous Quote:"
   ]
  },
  {
   "cell_type": "code",
   "execution_count": 60,
   "id": "53169ebe",
   "metadata": {},
   "outputs": [
    {
     "name": "stdout",
     "output_type": "stream",
     "text": [
      "Fortune favors the bold - Virgil\n"
     ]
    }
   ],
   "source": [
    "famous_person = ' - Virgil'\n",
    "message = \"Fortune favors the bold\"  \n",
    "quote = f'{message}{famous_person}'\n",
    "print(quote)\n"
   ]
  },
  {
   "cell_type": "code",
   "execution_count": 61,
   "id": "e95c922b",
   "metadata": {},
   "outputs": [],
   "source": [
    "#Exercise 2-7 tripping Names:"
   ]
  },
  {
   "cell_type": "code",
   "execution_count": 65,
   "id": "a1412c36",
   "metadata": {},
   "outputs": [
    {
     "name": "stdout",
     "output_type": "stream",
     "text": [
      "   Michael Gorman   \n",
      "Michael Gorman\n",
      "Michael Gorman   \n"
     ]
    }
   ],
   "source": [
    "fname = \"   Michael Gorman   \"\n",
    "print(fname)\n",
    "fname1 = fname.strip()\n",
    "print(fname1)\n",
    "fname2 = fname.lstrip()\n",
    "print(fname2)"
   ]
  },
  {
   "cell_type": "code",
   "execution_count": 68,
   "id": "234c4a06",
   "metadata": {},
   "outputs": [
    {
     "ename": "NameError",
     "evalue": "name 'Numbers' is not defined",
     "output_type": "error",
     "traceback": [
      "\u001b[1;31m---------------------------------------------------------------------------\u001b[0m",
      "\u001b[1;31mNameError\u001b[0m                                 Traceback (most recent call last)",
      "\u001b[1;32m~\\AppData\\Local\\Temp/ipykernel_1984/2481175053.py\u001b[0m in \u001b[0;36m<module>\u001b[1;34m\u001b[0m\n\u001b[1;32m----> 1\u001b[1;33m \u001b[0mNumbers\u001b[0m\u001b[1;33m\u001b[0m\u001b[1;33m\u001b[0m\u001b[0m\n\u001b[0m",
      "\u001b[1;31mNameError\u001b[0m: name 'Numbers' is not defined"
     ]
    }
   ],
   "source": [
    "#Numbers"
   ]
  },
  {
   "cell_type": "code",
   "execution_count": 69,
   "id": "dfcab53e",
   "metadata": {},
   "outputs": [
    {
     "data": {
      "text/plain": [
       "49"
      ]
     },
     "execution_count": 69,
     "metadata": {},
     "output_type": "execute_result"
    }
   ],
   "source": [
    "2+3"
   ]
  },
  {
   "cell_type": "code",
   "execution_count": 70,
   "id": "b1a9bf00",
   "metadata": {},
   "outputs": [
    {
     "data": {
      "text/plain": [
       "1.5"
      ]
     },
     "execution_count": 70,
     "metadata": {},
     "output_type": "execute_result"
    }
   ],
   "source": [
    "3/2"
   ]
  },
  {
   "cell_type": "code",
   "execution_count": 75,
   "id": "d4d203a5",
   "metadata": {},
   "outputs": [
    {
     "data": {
      "text/plain": [
       "6"
      ]
     },
     "execution_count": 75,
     "metadata": {},
     "output_type": "execute_result"
    }
   ],
   "source": [
    "3*2"
   ]
  },
  {
   "cell_type": "code",
   "execution_count": 76,
   "id": "218e2587",
   "metadata": {},
   "outputs": [
    {
     "data": {
      "text/plain": [
       "9"
      ]
     },
     "execution_count": 76,
     "metadata": {},
     "output_type": "execute_result"
    }
   ],
   "source": [
    "3**2"
   ]
  },
  {
   "cell_type": "code",
   "execution_count": 77,
   "id": "89153851",
   "metadata": {},
   "outputs": [
    {
     "data": {
      "text/plain": [
       "8"
      ]
     },
     "execution_count": 77,
     "metadata": {},
     "output_type": "execute_result"
    }
   ],
   "source": [
    "2+3*2"
   ]
  },
  {
   "cell_type": "code",
   "execution_count": 78,
   "id": "b9754337",
   "metadata": {},
   "outputs": [
    {
     "data": {
      "text/plain": [
       "10"
      ]
     },
     "execution_count": 78,
     "metadata": {},
     "output_type": "execute_result"
    }
   ],
   "source": [
    "(2+3)*2"
   ]
  },
  {
   "cell_type": "code",
   "execution_count": 79,
   "id": "71bc0724",
   "metadata": {},
   "outputs": [],
   "source": [
    "#Floats"
   ]
  },
  {
   "cell_type": "code",
   "execution_count": 80,
   "id": "3b907407",
   "metadata": {},
   "outputs": [
    {
     "data": {
      "text/plain": [
       "0.8"
      ]
     },
     "execution_count": 80,
     "metadata": {},
     "output_type": "execute_result"
    }
   ],
   "source": [
    "0.2*4"
   ]
  },
  {
   "cell_type": "code",
   "execution_count": 81,
   "id": "8be1f29c",
   "metadata": {},
   "outputs": [
    {
     "data": {
      "text/plain": [
       "1.0"
      ]
     },
     "execution_count": 81,
     "metadata": {},
     "output_type": "execute_result"
    }
   ],
   "source": [
    "0.5*2"
   ]
  },
  {
   "cell_type": "code",
   "execution_count": 82,
   "id": "878546b1",
   "metadata": {},
   "outputs": [
    {
     "data": {
      "text/plain": [
       "0.30000000000000004"
      ]
     },
     "execution_count": 82,
     "metadata": {},
     "output_type": "execute_result"
    }
   ],
   "source": [
    "0.2+0.1"
   ]
  },
  {
   "cell_type": "code",
   "execution_count": 84,
   "id": "d714818e",
   "metadata": {},
   "outputs": [],
   "source": [
    "#Integers and Floats"
   ]
  },
  {
   "cell_type": "code",
   "execution_count": 85,
   "id": "ae1b6b78",
   "metadata": {},
   "outputs": [
    {
     "data": {
      "text/plain": [
       "2.0"
      ]
     },
     "execution_count": 85,
     "metadata": {},
     "output_type": "execute_result"
    }
   ],
   "source": [
    "4/2"
   ]
  },
  {
   "cell_type": "code",
   "execution_count": 86,
   "id": "3ef3138c",
   "metadata": {},
   "outputs": [
    {
     "data": {
      "text/plain": [
       "3.0"
      ]
     },
     "execution_count": 86,
     "metadata": {},
     "output_type": "execute_result"
    }
   ],
   "source": [
    "1 + 2.0"
   ]
  },
  {
   "cell_type": "code",
   "execution_count": 87,
   "id": "302df16a",
   "metadata": {},
   "outputs": [],
   "source": [
    "# Underscores in Numbers"
   ]
  },
  {
   "cell_type": "code",
   "execution_count": 89,
   "id": "d419d991",
   "metadata": {},
   "outputs": [
    {
     "name": "stdout",
     "output_type": "stream",
     "text": [
      "14000000000\n"
     ]
    }
   ],
   "source": [
    "universe_age = 14_000_000_000\n",
    "print(universe_age)"
   ]
  },
  {
   "cell_type": "code",
   "execution_count": 93,
   "id": "4f9b8192",
   "metadata": {},
   "outputs": [
    {
     "name": "stdout",
     "output_type": "stream",
     "text": [
      "1 2 hi 55\n"
     ]
    }
   ],
   "source": [
    "a, b, c, d = 1, 2, \"hi\", 55\n",
    "print(a,b,c,d)"
   ]
  },
  {
   "cell_type": "code",
   "execution_count": 94,
   "id": "203f5a85",
   "metadata": {},
   "outputs": [],
   "source": [
    "#Exercise 2-8 Number Eight:"
   ]
  },
  {
   "cell_type": "code",
   "execution_count": 96,
   "id": "a7e136a7",
   "metadata": {},
   "outputs": [
    {
     "name": "stdout",
     "output_type": "stream",
     "text": [
      "8\n",
      "8\n",
      "8\n"
     ]
    }
   ],
   "source": [
    "print(5+3)\n",
    "print(4*2)\n",
    "print(11-3)"
   ]
  },
  {
   "cell_type": "code",
   "execution_count": 97,
   "id": "d097971e",
   "metadata": {},
   "outputs": [],
   "source": [
    "#Exercise 2-9. Favorite Number: "
   ]
  },
  {
   "cell_type": "code",
   "execution_count": 100,
   "id": "ef43d8ba",
   "metadata": {},
   "outputs": [
    {
     "name": "stdout",
     "output_type": "stream",
     "text": [
      "My favour number is 13\n"
     ]
    }
   ],
   "source": [
    "num = 13\n",
    "print('My favour number is',num)"
   ]
  },
  {
   "cell_type": "code",
   "execution_count": 101,
   "id": "49b2ad8c",
   "metadata": {},
   "outputs": [
    {
     "name": "stdout",
     "output_type": "stream",
     "text": [
      "The Zen of Python, by Tim Peters\n",
      "\n",
      "Beautiful is better than ugly.\n",
      "Explicit is better than implicit.\n",
      "Simple is better than complex.\n",
      "Complex is better than complicated.\n",
      "Flat is better than nested.\n",
      "Sparse is better than dense.\n",
      "Readability counts.\n",
      "Special cases aren't special enough to break the rules.\n",
      "Although practicality beats purity.\n",
      "Errors should never pass silently.\n",
      "Unless explicitly silenced.\n",
      "In the face of ambiguity, refuse the temptation to guess.\n",
      "There should be one-- and preferably only one --obvious way to do it.\n",
      "Although that way may not be obvious at first unless you're Dutch.\n",
      "Now is better than never.\n",
      "Although never is often better than *right* now.\n",
      "If the implementation is hard to explain, it's a bad idea.\n",
      "If the implementation is easy to explain, it may be a good idea.\n",
      "Namespaces are one honking great idea -- let's do more of those!\n"
     ]
    }
   ],
   "source": [
    "import this"
   ]
  },
  {
   "cell_type": "code",
   "execution_count": null,
   "id": "6b65a7eb",
   "metadata": {},
   "outputs": [],
   "source": []
  }
 ],
 "metadata": {
  "kernelspec": {
   "display_name": "Python 3 (ipykernel)",
   "language": "python",
   "name": "python3"
  },
  "language_info": {
   "codemirror_mode": {
    "name": "ipython",
    "version": 3
   },
   "file_extension": ".py",
   "mimetype": "text/x-python",
   "name": "python",
   "nbconvert_exporter": "python",
   "pygments_lexer": "ipython3",
   "version": "3.9.5"
  }
 },
 "nbformat": 4,
 "nbformat_minor": 5
}

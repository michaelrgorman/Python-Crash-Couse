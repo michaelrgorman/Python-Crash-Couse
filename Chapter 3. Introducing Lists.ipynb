{
 "cells": [
  {
   "cell_type": "code",
   "execution_count": 1,
   "id": "e9157734",
   "metadata": {},
   "outputs": [],
   "source": [
    "#Chapter 3: INTRODUCING LISTS "
   ]
  },
  {
   "cell_type": "code",
   "execution_count": 2,
   "id": "cf665cb4",
   "metadata": {},
   "outputs": [
    {
     "name": "stdout",
     "output_type": "stream",
     "text": [
      "['trek', 'cannondale', 'redline', 'specialized']\n"
     ]
    }
   ],
   "source": [
    "bicycles = ['trek', 'cannondale', 'redline', 'specialized']\n",
    "print(bicycles)"
   ]
  },
  {
   "cell_type": "code",
   "execution_count": 3,
   "id": "0d03f3df",
   "metadata": {},
   "outputs": [
    {
     "name": "stdout",
     "output_type": "stream",
     "text": [
      "trek\n"
     ]
    }
   ],
   "source": [
    "print(bicycles[0])"
   ]
  },
  {
   "cell_type": "code",
   "execution_count": 4,
   "id": "77f28e3b",
   "metadata": {},
   "outputs": [
    {
     "name": "stdout",
     "output_type": "stream",
     "text": [
      "specialized\n"
     ]
    }
   ],
   "source": [
    "print(bicycles[3])"
   ]
  },
  {
   "cell_type": "code",
   "execution_count": 5,
   "id": "93bb8310",
   "metadata": {},
   "outputs": [
    {
     "name": "stdout",
     "output_type": "stream",
     "text": [
      "Specialized\n"
     ]
    }
   ],
   "source": [
    "print(bicycles[3].title())"
   ]
  },
  {
   "cell_type": "code",
   "execution_count": 6,
   "id": "8a0324c0",
   "metadata": {},
   "outputs": [
    {
     "name": "stdout",
     "output_type": "stream",
     "text": [
      "specialized\n"
     ]
    }
   ],
   "source": [
    "print(bicycles[-1]) #-1 will grab the last item in the list -2 will be second last and so forth"
   ]
  },
  {
   "cell_type": "code",
   "execution_count": 7,
   "id": "144f4217",
   "metadata": {},
   "outputs": [],
   "source": [
    "#Using Individual Values from a List"
   ]
  },
  {
   "cell_type": "code",
   "execution_count": 58,
   "id": "41de2f73",
   "metadata": {},
   "outputs": [
    {
     "name": "stdout",
     "output_type": "stream",
     "text": [
      "My first bicycle was a Cannondale.\n"
     ]
    }
   ],
   "source": [
    "message = f\"My first bicycle was a {bicycles[-3].title()}.\"\n",
    "print(message)"
   ]
  },
  {
   "cell_type": "code",
   "execution_count": 9,
   "id": "130f4619",
   "metadata": {},
   "outputs": [],
   "source": [
    "#Exercise 3-1. Names:"
   ]
  },
  {
   "cell_type": "code",
   "execution_count": 10,
   "id": "043b2222",
   "metadata": {},
   "outputs": [
    {
     "name": "stdout",
     "output_type": "stream",
     "text": [
      "pop\n",
      "cob\n"
     ]
    }
   ],
   "source": [
    "name = ['bob', 'mog', 'pop', 'cob']\n",
    "print(name[2])\n",
    "print(name[-1])"
   ]
  },
  {
   "cell_type": "code",
   "execution_count": 11,
   "id": "cea7df6f",
   "metadata": {},
   "outputs": [],
   "source": [
    "#Exercise 3-2. Greetings:"
   ]
  },
  {
   "cell_type": "code",
   "execution_count": 12,
   "id": "896e9987",
   "metadata": {},
   "outputs": [
    {
     "name": "stdout",
     "output_type": "stream",
     "text": [
      "G'day Pop\n"
     ]
    }
   ],
   "source": [
    "message = f\"G'day {name[2].title()}\"\n",
    "print(message)"
   ]
  },
  {
   "cell_type": "code",
   "execution_count": 13,
   "id": "497b46e3",
   "metadata": {},
   "outputs": [],
   "source": [
    "#Excercise 3-3. Your Own List: "
   ]
  },
  {
   "cell_type": "code",
   "execution_count": 14,
   "id": "4790a648",
   "metadata": {},
   "outputs": [
    {
     "name": "stdout",
     "output_type": "stream",
     "text": [
      "['car', 'bike', 'bus']\n"
     ]
    }
   ],
   "source": [
    "Transport = ['car', 'bike', 'bus']\n",
    "print(Transport)"
   ]
  },
  {
   "cell_type": "code",
   "execution_count": 15,
   "id": "f906b84c",
   "metadata": {},
   "outputs": [
    {
     "name": "stdout",
     "output_type": "stream",
     "text": [
      "I would like to drive a Car but can only afford the Bus or even a Bike\n"
     ]
    }
   ],
   "source": [
    "message = f\"I would like to drive a {Transport[0].title()} but can only afford the {Transport[2].title()} or even a {Transport[1].title()}\"\n",
    "print(message)"
   ]
  },
  {
   "cell_type": "code",
   "execution_count": 16,
   "id": "2b9f96a3",
   "metadata": {},
   "outputs": [],
   "source": [
    "# Changing, Adding, and Removing Elements\n",
    "# Modifying Elements in a List"
   ]
  },
  {
   "cell_type": "code",
   "execution_count": 17,
   "id": "f7214f12",
   "metadata": {},
   "outputs": [
    {
     "name": "stdout",
     "output_type": "stream",
     "text": [
      "['honda', 'yamaha', 'suzuki']\n"
     ]
    }
   ],
   "source": [
    "motorcycles = ['honda', 'yamaha', 'suzuki']\n",
    "print(motorcycles)"
   ]
  },
  {
   "cell_type": "code",
   "execution_count": 18,
   "id": "4998969f",
   "metadata": {},
   "outputs": [
    {
     "name": "stdout",
     "output_type": "stream",
     "text": [
      "['ducati', 'yamaha', 'suzuki']\n"
     ]
    }
   ],
   "source": [
    "motorcycles[0] = 'ducati' # To replace \n",
    "print(motorcycles)"
   ]
  },
  {
   "cell_type": "code",
   "execution_count": 19,
   "id": "0da5443f",
   "metadata": {},
   "outputs": [
    {
     "name": "stdout",
     "output_type": "stream",
     "text": [
      "['ducati', 'yamaha', 'suzuki', 'ducati']\n"
     ]
    }
   ],
   "source": [
    " motorcycles.append('ducati') #To add\n",
    "print(motorcycles)"
   ]
  },
  {
   "cell_type": "code",
   "execution_count": 20,
   "id": "d4fb84ad",
   "metadata": {},
   "outputs": [
    {
     "name": "stdout",
     "output_type": "stream",
     "text": [
      "[]\n"
     ]
    }
   ],
   "source": [
    "Car = []\n",
    "print(Car)"
   ]
  },
  {
   "cell_type": "code",
   "execution_count": 21,
   "id": "596bdb83",
   "metadata": {},
   "outputs": [
    {
     "name": "stdout",
     "output_type": "stream",
     "text": [
      "['Ford', 'Toyota']\n"
     ]
    }
   ],
   "source": [
    "Car.append('Ford')\n",
    "Car.append(\"Toyota\")\n",
    "print(Car)"
   ]
  },
  {
   "cell_type": "raw",
   "id": "58365795",
   "metadata": {},
   "source": [
    "#Inserting Elements into a List"
   ]
  },
  {
   "cell_type": "code",
   "execution_count": 23,
   "id": "c283a1f6",
   "metadata": {},
   "outputs": [
    {
     "name": "stdout",
     "output_type": "stream",
     "text": [
      "['Ford', 'Holden', 'Toyota']\n"
     ]
    }
   ],
   "source": [
    "Car.insert(1, 'Holden')\n",
    "print(Car)"
   ]
  },
  {
   "cell_type": "code",
   "execution_count": 24,
   "id": "644d4cb6",
   "metadata": {},
   "outputs": [],
   "source": [
    "#Removing Elements into a List"
   ]
  },
  {
   "cell_type": "code",
   "execution_count": 25,
   "id": "26b7c45c",
   "metadata": {},
   "outputs": [
    {
     "name": "stdout",
     "output_type": "stream",
     "text": [
      "['Ford', 'Holden']\n"
     ]
    }
   ],
   "source": [
    "del Car[2]\n",
    "print(Car)"
   ]
  },
  {
   "cell_type": "code",
   "execution_count": 26,
   "id": "2a5db80d",
   "metadata": {},
   "outputs": [
    {
     "name": "stdout",
     "output_type": "stream",
     "text": [
      "['Holden']\n"
     ]
    }
   ],
   "source": [
    "Car.remove('Ford')\n",
    "print(Car)"
   ]
  },
  {
   "cell_type": "code",
   "execution_count": 27,
   "id": "9286b0ca",
   "metadata": {},
   "outputs": [],
   "source": [
    "#Exercise 3-4. Guest List:"
   ]
  },
  {
   "cell_type": "code",
   "execution_count": 33,
   "id": "7b40c64c",
   "metadata": {},
   "outputs": [
    {
     "name": "stdout",
     "output_type": "stream",
     "text": [
      "('Michael', 'Steff', 'Mark')\n"
     ]
    }
   ],
   "source": [
    "guest = 'Michael', 'Steff', 'Mark'\n",
    "milk = 'Mark'\n",
    "print(guest)"
   ]
  },
  {
   "cell_type": "code",
   "execution_count": 29,
   "id": "7456f99f",
   "metadata": {},
   "outputs": [
    {
     "name": "stdout",
     "output_type": "stream",
     "text": [
      "\n",
      "Hi Michael, Steff, Mark you are all invited to my party. Can Mark bring the milk please\n"
     ]
    }
   ],
   "source": [
    "print(f\"\\nHi {guest} you are all invited to my party. Can {milk} bring the milk please\")"
   ]
  },
  {
   "cell_type": "code",
   "execution_count": 30,
   "id": "5e87b4a6",
   "metadata": {},
   "outputs": [],
   "source": [
    "#Exercise 3-5. Changing Guest List:"
   ]
  },
  {
   "cell_type": "code",
   "execution_count": 114,
   "id": "87c6ffe1",
   "metadata": {},
   "outputs": [
    {
     "name": "stdout",
     "output_type": "stream",
     "text": [
      "['Michael', 'Steff']\n",
      "\n",
      "Michael is unable to attend and will be replaced\n",
      "['Joise', 'Steff']\n",
      "\n",
      "The new list who is invited is Joise and Steff\n",
      "\n",
      "Can Joise Please bring cheese and Steff bring baked potato\n"
     ]
    }
   ],
   "source": [
    "Party = ['Michael' , 'Steff']\n",
    "print(Party)\n",
    "print(f\"\\n{Party[0]} is unable to attend and will be replaced\")\n",
    "Party[0] = 'Joise'\n",
    "print(Party)\n",
    "print(f\"\\nThe new list who is invited is {Party[0].title()} and {Party[1].title()}\")\n",
    "print(f\"\\nCan {Party[0].title()} Please bring cheese and {Party[1].title()} bring baked potato\")"
   ]
  },
  {
   "cell_type": "code",
   "execution_count": 106,
   "id": "9c2b9ea0",
   "metadata": {},
   "outputs": [],
   "source": [
    "#Exercise 3-6. More Guests: "
   ]
  },
  {
   "cell_type": "code",
   "execution_count": 140,
   "id": "8cbdffff",
   "metadata": {},
   "outputs": [
    {
     "name": "stdout",
     "output_type": "stream",
     "text": [
      "We can invite more people. We can add James, Bob, and Ross to the list\n",
      "Joise, Steff, James, Bob, Ross\n",
      "Bobby, Joise, Steff, James, Bob, Ross\n"
     ]
    }
   ],
   "source": [
    "print(\"We can invite more people. We can add James, Bob, and Ross to the list\")\n",
    "NewPeople = [\"James\", \"Bob\" , \"Ross\"]\n",
    "NewList = Party + NewPeople\n",
    "print(', '.join(NewList))\n",
    "NewList.insert(-0, \"Bobby\")\n",
    "print(', '.join(NewList))"
   ]
  },
  {
   "cell_type": "code",
   "execution_count": 142,
   "id": "3789aad8",
   "metadata": {},
   "outputs": [],
   "source": [
    "#Exercise 3-7. Shrinking Guest List:"
   ]
  },
  {
   "cell_type": "code",
   "execution_count": 154,
   "id": "e256f81d",
   "metadata": {},
   "outputs": [
    {
     "name": "stdout",
     "output_type": "stream",
     "text": [
      "['Bobby', 'James', 'Bob', 'Ross']\n",
      "sorry, only two people can come\n",
      "['Bobby', 'Bob', 'Ross']\n"
     ]
    }
   ],
   "source": [
    "print(NewList)\n",
    "print('sorry, only two people can come')\n",
    "del NewList[1]\n",
    "print(NewList)\n"
   ]
  },
  {
   "cell_type": "code",
   "execution_count": 155,
   "id": "47fd3f86",
   "metadata": {},
   "outputs": [],
   "source": [
    "# Sorting a List Permanently with the sort() Method #SORT"
   ]
  },
  {
   "cell_type": "code",
   "execution_count": 156,
   "id": "13bcbb17",
   "metadata": {},
   "outputs": [
    {
     "name": "stdout",
     "output_type": "stream",
     "text": [
      "['audi', 'bmw', 'subaru', 'toyota']\n"
     ]
    }
   ],
   "source": [
    "cars = ['bmw', 'audi', 'toyota', 'subaru']\n",
    "cars.sort()\n",
    "print(cars)"
   ]
  },
  {
   "cell_type": "code",
   "execution_count": 160,
   "id": "b73360f6",
   "metadata": {},
   "outputs": [
    {
     "name": "stdout",
     "output_type": "stream",
     "text": [
      "['toyota', 'subaru', 'bmw', 'audi']\n"
     ]
    }
   ],
   "source": [
    "cars.sort(reverse=True)\n",
    "print(cars)"
   ]
  },
  {
   "cell_type": "code",
   "execution_count": 161,
   "id": "db6573c5",
   "metadata": {},
   "outputs": [],
   "source": [
    "#SORTED"
   ]
  },
  {
   "cell_type": "code",
   "execution_count": 163,
   "id": "824c7f6b",
   "metadata": {},
   "outputs": [
    {
     "name": "stdout",
     "output_type": "stream",
     "text": [
      "Here is the original list:\n",
      "['toyota', 'subaru', 'bmw', 'audi']\n",
      "\n",
      "Here is the sorted list:\n",
      "['audi', 'bmw', 'subaru', 'toyota']\n",
      "\n",
      "Here is the original list again:\n",
      "['toyota', 'subaru', 'bmw', 'audi']\n"
     ]
    }
   ],
   "source": [
    "print(\"Here is the original list:\")\n",
    "print(cars)\n",
    "print(\"\\nHere is the sorted list:\")\n",
    "print(sorted(cars))\n",
    "print(\"\\nHere is the original list again:\")\n",
    "print(cars)"
   ]
  },
  {
   "cell_type": "code",
   "execution_count": 167,
   "id": "3aac2f9c",
   "metadata": {},
   "outputs": [
    {
     "name": "stdout",
     "output_type": "stream",
     "text": [
      "['audi', 'bmw', 'subaru', 'toyota']\n",
      "['toyota', 'subaru', 'bmw', 'audi']\n"
     ]
    }
   ],
   "source": [
    "print(cars)\n",
    "cars.reverse()\n",
    "print(cars)"
   ]
  },
  {
   "cell_type": "code",
   "execution_count": 168,
   "id": "bdcec889",
   "metadata": {},
   "outputs": [
    {
     "data": {
      "text/plain": [
       "4"
      ]
     },
     "execution_count": 168,
     "metadata": {},
     "output_type": "execute_result"
    }
   ],
   "source": [
    "len(cars) # get length"
   ]
  },
  {
   "cell_type": "code",
   "execution_count": 169,
   "id": "c42df2cd",
   "metadata": {},
   "outputs": [],
   "source": [
    "#Exercise 3-8. Seeing the world:"
   ]
  },
  {
   "cell_type": "code",
   "execution_count": 170,
   "id": "ca51683c",
   "metadata": {},
   "outputs": [
    {
     "name": "stdout",
     "output_type": "stream",
     "text": [
      "['melb', 'sydney', 'perth', 'bris']\n"
     ]
    }
   ],
   "source": [
    "locations = ['melb', 'sydney', 'perth', 'bris']\n",
    "print(locations)"
   ]
  },
  {
   "cell_type": "code",
   "execution_count": 177,
   "id": "01eab0aa",
   "metadata": {},
   "outputs": [
    {
     "name": "stdout",
     "output_type": "stream",
     "text": [
      "['bris', 'melb', 'perth', 'sydney']\n"
     ]
    }
   ],
   "source": [
    "print(sorted(locations))"
   ]
  },
  {
   "cell_type": "code",
   "execution_count": 181,
   "id": "f7411723",
   "metadata": {},
   "outputs": [
    {
     "name": "stdout",
     "output_type": "stream",
     "text": [
      "['bris', 'perth', 'sydney', 'melb']\n"
     ]
    }
   ],
   "source": [
    "print(locations)"
   ]
  },
  {
   "cell_type": "code",
   "execution_count": 182,
   "id": "90fc6129",
   "metadata": {},
   "outputs": [
    {
     "name": "stdout",
     "output_type": "stream",
     "text": [
      "['bris', 'melb', 'perth', 'sydney']\n"
     ]
    }
   ],
   "source": [
    "print(sorted(locations))"
   ]
  },
  {
   "cell_type": "code",
   "execution_count": 185,
   "id": "4661fc3e",
   "metadata": {},
   "outputs": [
    {
     "name": "stdout",
     "output_type": "stream",
     "text": [
      "['melb', 'sydney', 'perth', 'bris']\n",
      "['bris', 'melb', 'perth', 'sydney']\n",
      "['melb', 'sydney', 'perth', 'bris']\n"
     ]
    }
   ],
   "source": [
    "locations = ['melb', 'sydney', 'perth', 'bris']\n",
    "print(locations)\n",
    "print(sorted(locations))\n",
    "print(locations)"
   ]
  },
  {
   "cell_type": "code",
   "execution_count": 186,
   "id": "77d18785",
   "metadata": {},
   "outputs": [
    {
     "name": "stdout",
     "output_type": "stream",
     "text": [
      "['bris', 'perth', 'sydney', 'melb']\n"
     ]
    }
   ],
   "source": [
    "locations.reverse()\n",
    "print(locations)"
   ]
  },
  {
   "cell_type": "code",
   "execution_count": 187,
   "id": "65e4b055",
   "metadata": {},
   "outputs": [
    {
     "data": {
      "text/plain": [
       "4"
      ]
     },
     "execution_count": 187,
     "metadata": {},
     "output_type": "execute_result"
    }
   ],
   "source": [
    "len(locations)"
   ]
  },
  {
   "cell_type": "code",
   "execution_count": 188,
   "id": "e2f7b557",
   "metadata": {},
   "outputs": [
    {
     "data": {
      "text/plain": [
       "3"
      ]
     },
     "execution_count": 188,
     "metadata": {},
     "output_type": "execute_result"
    }
   ],
   "source": [
    "len(NewList)"
   ]
  },
  {
   "cell_type": "code",
   "execution_count": 189,
   "id": "807cc9b4",
   "metadata": {},
   "outputs": [],
   "source": [
    "#Avoiding Index Errors When Working with Lists"
   ]
  },
  {
   "cell_type": "code",
   "execution_count": 191,
   "id": "14a90da2",
   "metadata": {},
   "outputs": [
    {
     "ename": "IndexError",
     "evalue": "list index out of range",
     "output_type": "error",
     "traceback": [
      "\u001b[1;31m---------------------------------------------------------------------------\u001b[0m",
      "\u001b[1;31mIndexError\u001b[0m                                Traceback (most recent call last)",
      "\u001b[1;32m~\\AppData\\Local\\Temp/ipykernel_19048/2331345319.py\u001b[0m in \u001b[0;36m<module>\u001b[1;34m\u001b[0m\n\u001b[0;32m      1\u001b[0m \u001b[0mmotorcycles\u001b[0m \u001b[1;33m=\u001b[0m \u001b[1;33m[\u001b[0m\u001b[1;34m'honda'\u001b[0m\u001b[1;33m,\u001b[0m \u001b[1;34m'yamaha'\u001b[0m\u001b[1;33m,\u001b[0m \u001b[1;34m'suzuki'\u001b[0m\u001b[1;33m]\u001b[0m\u001b[1;33m\u001b[0m\u001b[1;33m\u001b[0m\u001b[0m\n\u001b[1;32m----> 2\u001b[1;33m \u001b[0mprint\u001b[0m\u001b[1;33m(\u001b[0m\u001b[0mmotorcycles\u001b[0m\u001b[1;33m[\u001b[0m\u001b[1;36m3\u001b[0m\u001b[1;33m]\u001b[0m\u001b[1;33m)\u001b[0m \u001b[1;31m# There is no '3' item\u001b[0m\u001b[1;33m\u001b[0m\u001b[1;33m\u001b[0m\u001b[0m\n\u001b[0m",
      "\u001b[1;31mIndexError\u001b[0m: list index out of range"
     ]
    }
   ],
   "source": [
    "motorcycles = ['honda', 'yamaha', 'suzuki']\n",
    "print(motorcycles[3]) # There is no '3' item"
   ]
  },
  {
   "cell_type": "code",
   "execution_count": null,
   "id": "6078bba9",
   "metadata": {},
   "outputs": [],
   "source": []
  }
 ],
 "metadata": {
  "kernelspec": {
   "display_name": "Python 3 (ipykernel)",
   "language": "python",
   "name": "python3"
  },
  "language_info": {
   "codemirror_mode": {
    "name": "ipython",
    "version": 3
   },
   "file_extension": ".py",
   "mimetype": "text/x-python",
   "name": "python",
   "nbconvert_exporter": "python",
   "pygments_lexer": "ipython3",
   "version": "3.9.5"
  }
 },
 "nbformat": 4,
 "nbformat_minor": 5
}

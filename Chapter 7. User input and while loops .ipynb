{
 "cells": [
  {
   "cell_type": "code",
   "execution_count": 1,
   "id": "754028b1",
   "metadata": {},
   "outputs": [],
   "source": [
    "#How the input() Function Works"
   ]
  },
  {
   "cell_type": "code",
   "execution_count": 11,
   "id": "d800f9bb",
   "metadata": {},
   "outputs": [
    {
     "name": "stdout",
     "output_type": "stream",
     "text": [
      "Tell me something, and I will repeat it back to you: Hello\n",
      "Hello\n"
     ]
    }
   ],
   "source": [
    "message = input(\"Tell me something, and I will repeat it back to you: \")\n",
    "print(message)"
   ]
  },
  {
   "cell_type": "code",
   "execution_count": 12,
   "id": "36c314fa",
   "metadata": {},
   "outputs": [
    {
     "name": "stdout",
     "output_type": "stream",
     "text": [
      "Please enter your name: Michael\n",
      "\n",
      "Hello, Michael!\n"
     ]
    }
   ],
   "source": [
    "name = input(\"Please enter your name: \")\n",
    "print(f\"\\nHello, {name}!\")"
   ]
  },
  {
   "cell_type": "code",
   "execution_count": 2,
   "id": "42e32ca9",
   "metadata": {},
   "outputs": [
    {
     "name": "stdout",
     "output_type": "stream",
     "text": [
      "If you tell us who you are, we can personalize the messages you see.\n",
      "What is your first name? Michael\n",
      "\n",
      "Hello, Michael!\n"
     ]
    }
   ],
   "source": [
    "prompt = \"If you tell us who you are, we can personalize the messages you see.\"\n",
    "prompt += \"\\nWhat is your first name? \"\n",
    "name = input(prompt)\n",
    "print(f\"\\nHello, {name}!\")\n"
   ]
  },
  {
   "cell_type": "code",
   "execution_count": null,
   "id": "32f62450",
   "metadata": {},
   "outputs": [],
   "source": [
    "#Using int() to Accept Numerical Input"
   ]
  },
  {
   "cell_type": "code",
   "execution_count": 3,
   "id": "1df0d1c0",
   "metadata": {},
   "outputs": [
    {
     "name": "stdout",
     "output_type": "stream",
     "text": [
      "How tall are you, in inches? 231\n",
      "\n",
      "You're tall enough to ride!\n"
     ]
    }
   ],
   "source": [
    "height = input(\"How tall are you, in inches? \")\n",
    "height = int(height)\n",
    "if height >= 48:\n",
    "    print(\"\\nYou're tall enough to ride!\")\n",
    "else:\n",
    "    print(\"\\nYou'll be able to ride when you're a little older.\")"
   ]
  },
  {
   "cell_type": "code",
   "execution_count": null,
   "id": "4e735fd0",
   "metadata": {},
   "outputs": [],
   "source": [
    "#The Modulo Operator - returns the remainder  "
   ]
  },
  {
   "cell_type": "code",
   "execution_count": 13,
   "id": "5b41b866",
   "metadata": {},
   "outputs": [
    {
     "data": {
      "text/plain": [
       "4"
      ]
     },
     "execution_count": 13,
     "metadata": {},
     "output_type": "execute_result"
    }
   ],
   "source": [
    "4 % 3"
   ]
  },
  {
   "cell_type": "code",
   "execution_count": 8,
   "id": "3842a335",
   "metadata": {},
   "outputs": [
    {
     "data": {
      "text/plain": [
       "2"
      ]
     },
     "execution_count": 8,
     "metadata": {},
     "output_type": "execute_result"
    }
   ],
   "source": [
    "5 % 3"
   ]
  },
  {
   "cell_type": "code",
   "execution_count": 4,
   "id": "02d1e781",
   "metadata": {},
   "outputs": [
    {
     "name": "stdout",
     "output_type": "stream",
     "text": [
      "Enter a number, and I'll tell you if it's even or odd: 4\n",
      "\n",
      "The number 4 is even.\n"
     ]
    }
   ],
   "source": [
    "number = input(\"Enter a number, and I'll tell you if it's even or odd: \")\n",
    "number = int(number)\n",
    "if number % 2 == 0:\n",
    "    print(f\"\\nThe number {number} is even.\")\n",
    "else:\n",
    "    print(f\"\\nThe number {number} is odd.\")"
   ]
  },
  {
   "cell_type": "code",
   "execution_count": 10,
   "id": "d657bd33",
   "metadata": {},
   "outputs": [],
   "source": [
    "#Exercise 7-1. Rental Car: "
   ]
  },
  {
   "cell_type": "code",
   "execution_count": 7,
   "id": "def534be",
   "metadata": {},
   "outputs": [
    {
     "name": "stdout",
     "output_type": "stream",
     "text": [
      "If you tell me what car you are after, I will try find it for you:Ford\n",
      "\n",
      "hmmm, we can't find any Ford's. What about a toyota\n"
     ]
    }
   ],
   "source": [
    "carReq = \"If you tell me what car you are after, I will try find it for you:\"\n",
    "car = input(carReq)\n",
    "print(f\"\\nhmmm, we can't find any {car}'s. What about a toyota\")"
   ]
  },
  {
   "cell_type": "code",
   "execution_count": 8,
   "id": "1d15596e",
   "metadata": {},
   "outputs": [
    {
     "name": "stdout",
     "output_type": "stream",
     "text": [
      "What kind of car would you like? Fortd\n",
      "Let me see if I can find you a Fortd.\n"
     ]
    }
   ],
   "source": [
    "car = input(\"What kind of car would you like? \")\n",
    "\n",
    "print(f\"Let me see if I can find you a {car.title()}.\")"
   ]
  },
  {
   "cell_type": "code",
   "execution_count": null,
   "id": "1cddc4f3",
   "metadata": {},
   "outputs": [],
   "source": [
    "#Exercise 7-2. Restaurant Seating: "
   ]
  },
  {
   "cell_type": "code",
   "execution_count": 12,
   "id": "addce578",
   "metadata": {},
   "outputs": [
    {
     "name": "stdout",
     "output_type": "stream",
     "text": [
      "How many people are you expecting in your group?8\n",
      "You will have to wait for a table\n"
     ]
    }
   ],
   "source": [
    "group = input(\"How many people are you expecting in your group?\")\n",
    "group = int(group)\n",
    "if group > 7:\n",
    "    print(\"You will have to wait for a table\")\n",
    "else:\n",
    "    print(\"Perfect, there is a table for you\")"
   ]
  },
  {
   "cell_type": "code",
   "execution_count": null,
   "id": "f901bf82",
   "metadata": {},
   "outputs": [],
   "source": [
    "#Exercise 7-3. Multiples of Ten:"
   ]
  },
  {
   "cell_type": "code",
   "execution_count": 17,
   "id": "34a5ac97",
   "metadata": {},
   "outputs": [
    {
     "name": "stdout",
     "output_type": "stream",
     "text": [
      "please input a numbers, and I will let you know if the number is a multiple of ten: 11\n",
      "try again\n"
     ]
    }
   ],
   "source": [
    "num10 = input(\"please input a numbers, and I will let you know if the number is a multiple of ten: \")\n",
    "num10 = int(num10)\n",
    "if num10 % 10 == 0:\n",
    "    print(\"That number is a multiple of ten\")\n",
    "else:\n",
    "    print(\"try again\")"
   ]
  },
  {
   "cell_type": "code",
   "execution_count": 18,
   "id": "6e3a1a1b",
   "metadata": {},
   "outputs": [
    {
     "name": "stdout",
     "output_type": "stream",
     "text": [
      "please input a numbers, and I will let you know if the number is a multiple of ten: 1110000\n",
      "That number is a multiple of ten\n"
     ]
    }
   ],
   "source": [
    "num10 = input(\"please input a numbers, and I will let you know if the number is a multiple of ten: \")\n",
    "num10 = int(num10)\n",
    "if num10 % 10 == 0:\n",
    "    print(\"That number is a multiple of ten\")\n",
    "else:\n",
    "    print(\"try again\")"
   ]
  },
  {
   "cell_type": "code",
   "execution_count": 19,
   "id": "28b91d41",
   "metadata": {},
   "outputs": [],
   "source": [
    "#The while Loop in Action"
   ]
  },
  {
   "cell_type": "code",
   "execution_count": 20,
   "id": "fd95161f",
   "metadata": {},
   "outputs": [
    {
     "name": "stdout",
     "output_type": "stream",
     "text": [
      "1\n",
      "2\n",
      "3\n",
      "4\n",
      "5\n"
     ]
    }
   ],
   "source": [
    "current_number = 1\n",
    "while current_number <=5:\n",
    "    print(current_number)\n",
    "    current_number += 1 #The += operator is shorthand for current_number = current_number + 1"
   ]
  },
  {
   "cell_type": "code",
   "execution_count": 21,
   "id": "cd5d3fde",
   "metadata": {},
   "outputs": [],
   "source": [
    "#Letting the User Choose When to Quit"
   ]
  },
  {
   "cell_type": "code",
   "execution_count": 3,
   "id": "19f3b557",
   "metadata": {},
   "outputs": [
    {
     "name": "stdout",
     "output_type": "stream",
     "text": [
      "\n",
      "Tell me something and I will repeat it back to you\n",
      "Enter 'quit' to end the programHi\n",
      "Hi\n",
      "\n",
      "Tell me something and I will repeat it back to you\n",
      "Enter 'quit' to end the programMy \n",
      "My \n",
      "\n",
      "Tell me something and I will repeat it back to you\n",
      "Enter 'quit' to end the programName \n",
      "Name \n",
      "\n",
      "Tell me something and I will repeat it back to you\n",
      "Enter 'quit' to end the programis\n",
      "is\n",
      "\n",
      "Tell me something and I will repeat it back to you\n",
      "Enter 'quit' to end the programquit\n"
     ]
    }
   ],
   "source": [
    "prompt = \"\\nTell me something and I will repeat it back to you\"\n",
    "prompt += \"\\nEnter 'quit' to end the program\"\n",
    "\n",
    "message = \"\"\n",
    "while message != 'quit':\n",
    "    message = input(prompt)\n",
    "    \n",
    "    if message !='quit':\n",
    "        print(message)"
   ]
  },
  {
   "cell_type": "code",
   "execution_count": 4,
   "id": "4bf6fa9d",
   "metadata": {},
   "outputs": [],
   "source": [
    "#Using a Flag"
   ]
  },
  {
   "cell_type": "code",
   "execution_count": 1,
   "id": "5db1429c",
   "metadata": {},
   "outputs": [
    {
     "name": "stdout",
     "output_type": "stream",
     "text": [
      "\n",
      "Tell me something, and I will repeat it back to you:\n",
      "Enter 'quit' to end the program. Hi\n",
      "Hi\n",
      "\n",
      "Tell me something, and I will repeat it back to you:\n",
      "Enter 'quit' to end the program. quit\n"
     ]
    }
   ],
   "source": [
    "prompt = \"\\nTell me something, and I will repeat it back to you:\"\n",
    "prompt += \"\\nEnter 'quit' to end the program. \"\n",
    "active = True\n",
    "while active:\n",
    "    message = input(prompt)\n",
    "    if message == 'quit':\n",
    "        active = False\n",
    "    else:\n",
    "        print(message)"
   ]
  },
  {
   "cell_type": "code",
   "execution_count": 3,
   "id": "43404f9b",
   "metadata": {},
   "outputs": [],
   "source": [
    "#Using break to Exit a Loop"
   ]
  },
  {
   "cell_type": "code",
   "execution_count": 8,
   "id": "dbc63f08",
   "metadata": {},
   "outputs": [
    {
     "name": "stdout",
     "output_type": "stream",
     "text": [
      "\n",
      "Please enter the name of a city you have visited:\n",
      "(Enter 'quit' when you are finished.) Melb\n",
      "I'd love to go to Melb!\n",
      "\n",
      "Please enter the name of a city you have visited:\n",
      "(Enter 'quit' when you are finished.) quit\n"
     ]
    }
   ],
   "source": [
    "prompt = \"\\nPlease enter the name of a city you have visited:\"\n",
    "prompt += \"\\n(Enter 'quit' when you are finished.) \"\n",
    "while True:\n",
    "    city = input(prompt)\n",
    "    if city == 'quit':\n",
    "        break\n",
    "    else:\n",
    "        print(f\"I'd love to go to {city.title()}!\")"
   ]
  },
  {
   "cell_type": "code",
   "execution_count": 5,
   "id": "07637a62",
   "metadata": {},
   "outputs": [],
   "source": [
    "#Using continue in a Loop"
   ]
  },
  {
   "cell_type": "code",
   "execution_count": 6,
   "id": "de3891e1",
   "metadata": {},
   "outputs": [
    {
     "name": "stdout",
     "output_type": "stream",
     "text": [
      "1\n",
      "3\n",
      "5\n",
      "7\n",
      "9\n"
     ]
    }
   ],
   "source": [
    "current_number = 0\n",
    "while current_number < 10:\n",
    "    current_number += 1\n",
    "    if current_number % 2 == 0:\n",
    "        continue\n",
    "    print(current_number)"
   ]
  },
  {
   "cell_type": "code",
   "execution_count": 7,
   "id": "30fa92bb",
   "metadata": {},
   "outputs": [],
   "source": [
    "#Exercise 7-4. Pizza Toppings:"
   ]
  },
  {
   "cell_type": "code",
   "execution_count": 1,
   "id": "3f8954df",
   "metadata": {},
   "outputs": [
    {
     "name": "stdout",
     "output_type": "stream",
     "text": [
      "\n",
      "What do you want on your pizza?\n",
      "Enter 'quit' to end the programchicken\n",
      "I will add Chicken to the pizza!\n",
      "\n",
      "What do you want on your pizza?\n",
      "Enter 'quit' to end the programbanana\n",
      "I will add Banana to the pizza!\n",
      "\n",
      "What do you want on your pizza?\n",
      "Enter 'quit' to end the programquit\n"
     ]
    }
   ],
   "source": [
    "prompt = \"\\nWhat do you want on your pizza?\"\n",
    "prompt += \"\\nEnter 'quit' to end the program\"\n",
    "\n",
    "message = \"\"\n",
    "while message != 'quit':\n",
    "    message = input(prompt)\n",
    "    \n",
    "    if message !='quit':\n",
    "         print(f\"I will add {message.title()} to the pizza!\")"
   ]
  },
  {
   "cell_type": "code",
   "execution_count": 2,
   "id": "ed7aab01",
   "metadata": {},
   "outputs": [],
   "source": [
    "#Exercise 7-5. Movie Tickets:"
   ]
  },
  {
   "cell_type": "code",
   "execution_count": 21,
   "id": "93bc138c",
   "metadata": {},
   "outputs": [
    {
     "name": "stdout",
     "output_type": "stream",
     "text": [
      "\n",
      "Welcome to the movies! How old are you?15\n",
      "full price buddy\n"
     ]
    }
   ],
   "source": [
    "age = input(\"\\nWelcome to the movies! How old are you?\")\n",
    "age = int(age)\n",
    "\n",
    "if age < 4:\n",
    "    print('That will be free! No charge for you')\n",
    "elif age <= 14:\n",
    "    print(\"That will be $10\")\n",
    "elif age > 14:\n",
    "    print(\"full price buddy\")"
   ]
  },
  {
   "cell_type": "code",
   "execution_count": null,
   "id": "4362a463",
   "metadata": {},
   "outputs": [
    {
     "name": "stdout",
     "output_type": "stream",
     "text": [
      "How old are you?\n",
      "Enter 'quit' when you are finished. 43\n",
      "  Your ticket is $15.\n",
      "How old are you?\n",
      "Enter 'quit' when you are finished. 5\n",
      "  Your ticket is $10.\n"
     ]
    }
   ],
   "source": [
    "prompt = \"How old are you?\"\n",
    "prompt += \"\\nEnter 'quit' when you are finished. \"\n",
    "\n",
    "while True:\n",
    "    age = input(prompt)\n",
    "    if age == 'quit':\n",
    "        break\n",
    "    age = int(age)\n",
    "\n",
    "    if age < 3:\n",
    "        print(\"  You get in free!\")\n",
    "    elif age < 13:\n",
    "        print(\"  Your ticket is $10.\")\n",
    "    else:\n",
    "        print(\"  Your ticket is $15.\")"
   ]
  },
  {
   "cell_type": "code",
   "execution_count": null,
   "id": "feafc191",
   "metadata": {},
   "outputs": [],
   "source": [
    "#Moving Items from One List to Another"
   ]
  },
  {
   "cell_type": "code",
   "execution_count": 6,
   "id": "80bb5aa1",
   "metadata": {},
   "outputs": [
    {
     "name": "stdout",
     "output_type": "stream",
     "text": [
      "Verifying user: Candace\n",
      "Verifying user: Brian\n",
      "Verifying user: Alice\n",
      "\n",
      "The following users have been confirmed:\n",
      "Candace\n",
      "Brian\n",
      "Alice\n",
      "\n",
      "There is not unconfirmed_users anymore\n"
     ]
    }
   ],
   "source": [
    "# Start with users that need to be verified,\n",
    "# and an empty list to hold confirmed users.\n",
    "\n",
    "unconfirmed_users = ['alice', 'brian', 'candace']\n",
    "confirmed_users = []\n",
    "# Verify each user until there are no more unconfirmed users.\n",
    "# Move each verified user into the list of confirmed users.\n",
    "\n",
    "while unconfirmed_users:\n",
    "    current_user = unconfirmed_users.pop()\n",
    "    print(f\"Verifying user: {current_user.title()}\")\n",
    "    confirmed_users.append(current_user)\n",
    "    \n",
    "# Display all confirmed users.\n",
    "print(\"\\nThe following users have been confirmed:\")\n",
    "for confirmed_user in confirmed_users:\n",
    "    print(confirmed_user.title())\n",
    "    \n",
    "if unconfirmed_users == []:\n",
    "    print('\\nThere is not unconfirmed_users anymore')"
   ]
  },
  {
   "cell_type": "code",
   "execution_count": null,
   "id": "10cbf126",
   "metadata": {},
   "outputs": [],
   "source": [
    "#Removing All Instances of Specific Values from a List"
   ]
  },
  {
   "cell_type": "code",
   "execution_count": 7,
   "id": "d9ed7a1a",
   "metadata": {},
   "outputs": [
    {
     "name": "stdout",
     "output_type": "stream",
     "text": [
      "['dog', 'cat', 'dog', 'goldfish', 'cat', 'rabbit', 'cat']\n",
      "['dog', 'dog', 'goldfish', 'rabbit']\n"
     ]
    }
   ],
   "source": [
    "pets = ['dog', 'cat', 'dog', 'goldfish', 'cat', 'rabbit', 'cat']\n",
    "print(pets)\n",
    "while 'cat' in pets:\n",
    "    pets.remove('cat')\n",
    "print(pets)"
   ]
  },
  {
   "cell_type": "code",
   "execution_count": 8,
   "id": "b9bb5e42",
   "metadata": {},
   "outputs": [],
   "source": [
    "#Filling a Dictionary with User Input"
   ]
  },
  {
   "cell_type": "code",
   "execution_count": 13,
   "id": "468a57cd",
   "metadata": {},
   "outputs": [
    {
     "name": "stdout",
     "output_type": "stream",
     "text": [
      "\n",
      "What is your name? Michael\n",
      "Which mountain would you like to climb someday? Aus\n",
      "Would you like to let another person respond? (yes/ no) no\n",
      "\n",
      "--- Poll Results ---\n",
      "Michael would like to climb Aus.\n"
     ]
    }
   ],
   "source": [
    "responses = {}\n",
    "\n",
    "# Set a flag to indicate that polling is active.\n",
    "polling_active = True\n",
    "\n",
    "while polling_active:\n",
    "    # Prompt for the person's name and response.\n",
    "    name = input(\"\\nWhat is your name? \")\n",
    "    response = input(\"Which mountain would you like to climb someday? \")\n",
    "\n",
    "    # Store the response in the dictionary.\n",
    "    responses[name] = response\n",
    "    \n",
    "    #Find out if anyone else is going to take the poll.\n",
    "    repeat = input(\"Would you like to let another person respond? (yes/ no) \")\n",
    "    if repeat == 'no':\n",
    "        polling_active = False\n",
    "\n",
    "        # Polling is complete. Show the results.\n",
    "print(\"\\n--- Poll Results ---\")\n",
    "for name, response in responses.items():\n",
    "    print(f\"{name} would like to climb {response}.\")"
   ]
  },
  {
   "cell_type": "code",
   "execution_count": null,
   "id": "1bed2ab8",
   "metadata": {},
   "outputs": [],
   "source": [
    "#Exercise 7-8. Deli:"
   ]
  },
  {
   "cell_type": "code",
   "execution_count": 16,
   "id": "07ba263a",
   "metadata": {},
   "outputs": [
    {
     "name": "stdout",
     "output_type": "stream",
     "text": [
      "I'm working on your roast beef sandwich.\n",
      "I'm working on your turkey sandwich.\n",
      "I'm working on your grilled cheese sandwich.\n",
      "I'm working on your veggie sandwich.\n",
      "\n",
      "\n",
      "I made a roast beef sandwich.\n",
      "I made a turkey sandwich.\n",
      "I made a grilled cheese sandwich.\n",
      "I made a veggie sandwich.\n"
     ]
    }
   ],
   "source": [
    "sandwich_orders = ['veggie', 'grilled cheese', 'turkey', 'roast beef']\n",
    "finished_sandwiches = []\n",
    "\n",
    "while sandwich_orders:\n",
    "    current_sandwich = sandwich_orders.pop()\n",
    "    print(f\"I'm working on your {current_sandwich} sandwich.\")\n",
    "    finished_sandwiches.append(current_sandwich)\n",
    "\n",
    "print(\"\\n\")\n",
    "for sandwich in finished_sandwiches:\n",
    "    print(f\"I made a {sandwich} sandwich.\")"
   ]
  },
  {
   "cell_type": "code",
   "execution_count": 17,
   "id": "36a0d291",
   "metadata": {},
   "outputs": [],
   "source": [
    "#Exercise 7-9. No Pastrami:"
   ]
  },
  {
   "cell_type": "code",
   "execution_count": 38,
   "id": "1c9f11ca",
   "metadata": {},
   "outputs": [
    {
     "name": "stdout",
     "output_type": "stream",
     "text": [
      "We are sorry, we are out of Pastrami today\n",
      "\n",
      "\n",
      "I'm working on your roast beef sandwich.\n",
      "I'm working on your turkey sandwich.\n",
      "I'm working on your grilled cheese sandwich.\n",
      "I'm working on your veggie sandwich.\n",
      "\n",
      "\n",
      "I made a roast beef sandwich.\n",
      "I made a turkey sandwich.\n",
      "I made a grilled cheese sandwich.\n",
      "I made a veggie sandwich.\n",
      "\n",
      "\n",
      "['roast beef', 'turkey', 'grilled cheese', 'veggie']\n",
      "[]\n"
     ]
    }
   ],
   "source": [
    "sandwich_orders = ['veggie', 'grilled cheese', 'turkey', 'roast beef', 'Pastrami', 'Pastrami', 'Pastrami']\n",
    "finished_sandwiches = []\n",
    "\n",
    "print(\"We are sorry, we are out of Pastrami today\")\n",
    "while 'Pastrami' in sandwich_orders:\n",
    "    sandwich_orders.remove('Pastrami')\n",
    "\n",
    "print(\"\\n\")\n",
    "while sandwich_orders:\n",
    "    current_sandwich = sandwich_orders.pop()\n",
    "    print(f\"I'm working on your {current_sandwich} sandwich.\")\n",
    "    finished_sandwiches.append(current_sandwich)\n",
    "\n",
    "print(\"\\n\")\n",
    "for sandwich in finished_sandwiches:\n",
    "    print(f\"I made a {sandwich} sandwich.\")\n",
    "    \n",
    "print(\"\\n\")\n",
    "print(finished_sandwiches)\n",
    "print( sandwich_orders)"
   ]
  },
  {
   "cell_type": "code",
   "execution_count": null,
   "id": "836187ab",
   "metadata": {},
   "outputs": [],
   "source": [
    "#Exercise 7-10. Dream Vacation:"
   ]
  },
  {
   "cell_type": "code",
   "execution_count": 1,
   "id": "7b20ebe2",
   "metadata": {},
   "outputs": [
    {
     "name": "stdout",
     "output_type": "stream",
     "text": [
      "\n",
      "What is your name? steff\n",
      "\n",
      "How old are you?15\n",
      "\n",
      "What is your dream holiday destination? fiji\n",
      "\n",
      "Is there anyone else who would like to respond?yes\n",
      "\n",
      "What is your name? mich\n",
      "\n",
      "How old are you?55\n",
      "\n",
      "What is your dream holiday destination? aus\n",
      "\n",
      "Is there anyone else who would like to respond?no\n",
      "\n",
      "--- Poll Results ---\n",
      "steff would like to vists aus and is 55 years old\n",
      "mich would like to vists aus and is 55 years old\n"
     ]
    }
   ],
   "source": [
    "response = {}\n",
    "\n",
    "polling_active = True\n",
    "\n",
    "while polling_active:\n",
    "    name = input(\"\\nWhat is your name? \")\n",
    "    age = input(\"\\nHow old are you?\")\n",
    "    location = input(\"\\nWhat is your dream holiday destination? \")\n",
    "    \n",
    "    response[name] = location\n",
    "    \n",
    "    repeat = input(\"\\nIs there anyone else who would like to respond?\")\n",
    "    if repeat == 'no':\n",
    "        polling_active = False\n",
    "\n",
    "print(\"\\n--- Poll Results ---\")\n",
    "for name, response in response.items():\n",
    "    print(f\"{name} would like to vists {location} and is {age} years old\")"
   ]
  },
  {
   "cell_type": "code",
   "execution_count": null,
   "id": "2edb92b0",
   "metadata": {},
   "outputs": [],
   "source": []
  }
 ],
 "metadata": {
  "kernelspec": {
   "display_name": "Python 3 (ipykernel)",
   "language": "python",
   "name": "python3"
  },
  "language_info": {
   "codemirror_mode": {
    "name": "ipython",
    "version": 3
   },
   "file_extension": ".py",
   "mimetype": "text/x-python",
   "name": "python",
   "nbconvert_exporter": "python",
   "pygments_lexer": "ipython3",
   "version": "3.9.5"
  }
 },
 "nbformat": 4,
 "nbformat_minor": 5
}
